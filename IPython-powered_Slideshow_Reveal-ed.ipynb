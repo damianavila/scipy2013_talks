{
 "metadata": {
  "name": "IPython-powered_Slideshow_Reveal-ed"
 },
 "nbformat": 3,
 "nbformat_minor": 0,
 "worksheets": [
  {
   "cells": [
    {
     "cell_type": "markdown",
     "metadata": {
      "slideshow": {
       "align_type": "Left",
       "slide_type": "slide"
      }
     },
     "source": [
      "# IPython-powered Slideshow Reveal-ed"
     ]
    },
    {
     "cell_type": "markdown",
     "metadata": {
      "slideshow": {
       "slide_type": "subslide"
      }
     },
     "source": [
      "# Link to presentation"
     ]
    },
    {
     "cell_type": "markdown",
     "metadata": {
      "slideshow": {
       "slide_type": "subslide"
      }
     },
     "source": [
      "# [Dami\u00e1n Avila](http://www.damian.oquanta.info)\n",
      "\n",
      "# [@damian_avila](http://twitter.com/damian_avila)\n",
      "\n",
      "# [Github](https://github.com/damianavila)\n",
      "\n",
      "# Email: info@oquanta.info"
     ]
    },
    {
     "cell_type": "markdown",
     "metadata": {
      "slideshow": {
       "slide_type": "subslide"
      }
     },
     "source": [
      "# A good rule about present talks says:"
     ]
    },
    {
     "cell_type": "markdown",
     "metadata": {
      "slideshow": {
       "slide_type": "fragment"
      }
     },
     "source": [
      "# DON'T DEMO"
     ]
    },
    {
     "cell_type": "markdown",
     "metadata": {
      "slideshow": {
       "slide_type": "fragment"
      }
     },
     "source": [
      "# BUT..."
     ]
    },
    {
     "cell_type": "markdown",
     "metadata": {
      "slideshow": {
       "slide_type": "fragment"
      }
     },
     "source": [
      "# I WILL NOT FOLLOW IT."
     ]
    },
    {
     "cell_type": "markdown",
     "metadata": {
      "slideshow": {
       "slide_type": "slide"
      }
     },
     "source": [
      "# INTRO..."
     ]
    },
    {
     "cell_type": "markdown",
     "metadata": {
      "slideshow": {
       "slide_type": "subslide"
      }
     },
     "source": [
      "# \"A long time ago in a galaxy far, far away...\""
     ]
    },
    {
     "cell_type": "markdown",
     "metadata": {
      "slideshow": {
       "slide_type": "fragment"
      }
     },
     "source": [
      "## January 2012, +Wes McKinney (@wesmckinn) said in twitter:"
     ]
    },
    {
     "cell_type": "markdown",
     "metadata": {
      "slideshow": {
       "slide_type": "fragment"
      }
     },
     "source": [
      "![imagen](/files/wes.png)"
     ]
    },
    {
     "cell_type": "markdown",
     "metadata": {
      "slideshow": {
       "slide_type": "subslide"
      }
     },
     "source": [
      "# Resume I: \n",
      "\n",
      "* I embedded the IPython notebook in a HTML slideshow...\n",
      "* I use an iframe-based approach... \n",
      "* Too much hacky..."
     ]
    },
    {
     "cell_type": "markdown",
     "metadata": {
      "slideshow": {
       "slide_type": "-"
      }
     },
     "source": [
      "![imagen](/files/damian.png)"
     ]
    },
    {
     "cell_type": "markdown",
     "metadata": {
      "slideshow": {
       "slide_type": "subslide"
      }
     },
     "source": [
      "# Resume II: \n",
      "\n",
      "* Interesting... \n",
      "* Presentation materials from notebook is high in our to do list...\n",
      "* Streamline the process..."
     ]
    },
    {
     "cell_type": "markdown",
     "metadata": {
      "slideshow": {
       "slide_type": "-"
      }
     },
     "source": [
      "![imagen](/files/fernando.png)"
     ]
    },
    {
     "cell_type": "markdown",
     "metadata": {
      "slideshow": {
       "slide_type": "slide"
      }
     },
     "source": [
      "# NBCONVERT"
     ]
    },
    {
     "cell_type": "markdown",
     "metadata": {
      "slideshow": {
       "slide_type": "fragment"
      }
     },
     "source": [
      "## Conversion utilities for the IPython notebook format"
     ]
    },
    {
     "cell_type": "markdown",
     "metadata": {
      "slideshow": {
       "slide_type": "fragment"
      }
     },
     "source": [
      "**IPYNB** to **HTML** was supported (this is the heart of [nbviewer](http://nbviewer.ipython.org) service)."
     ]
    },
    {
     "cell_type": "markdown",
     "metadata": {
      "slideshow": {
       "slide_type": "subslide"
      }
     },
     "source": [
      "# Maybe...\n",
      "\n",
      "# I could write a converter for IPYNB to a html-based slideshow."
     ]
    },
    {
     "cell_type": "markdown",
     "metadata": {
      "slideshow": {
       "slide_type": "subslide"
      }
     },
     "source": [
      "![imagen](/files/reveal.png)"
     ]
    },
    {
     "cell_type": "markdown",
     "metadata": {
      "slideshow": {
       "slide_type": "subslide"
      }
     },
     "source": [
      "# The aim was:\n",
      "\n",
      "## *Easily* get a html5/css-based slideshows *directly* from IPython notebook."
     ]
    },
    {
     "cell_type": "markdown",
     "metadata": {
      "slideshow": {
       "slide_type": "subslide"
      }
     },
     "source": [
      "# This slideshow (obviously) is IPython/Reveal.js-powered. \n",
      "\n",
      "## (Remember, DON'T DEMO, hehe)..."
     ]
    },
    {
     "cell_type": "markdown",
     "metadata": {
      "slideshow": {
       "align_type": "Left",
       "slide_type": "fragment"
      }
     },
     "source": [
      "## So... are you ready?!"
     ]
    },
    {
     "cell_type": "markdown",
     "metadata": {
      "slideshow": {
       "slide_type": "fragment"
      }
     },
     "source": [
      "## Here we go..."
     ]
    },
    {
     "cell_type": "markdown",
     "metadata": {
      "slideshow": {
       "slide_type": "slide"
      }
     },
     "source": [
      "# Ingredients:\n",
      "\n",
      "* [ipython 1.0 (development)](https://github.com/ipython/ipython)\n",
      "* [nbconvert](https://github.com/ipython/nbconvert)\n",
      "* [reveal.js](https://github.com/hakimel/reveal.js)"
     ]
    },
    {
     "cell_type": "markdown",
     "metadata": {
      "slideshow": {
       "align_type": "Left",
       "slide_type": "slide"
      }
     },
     "source": [
      "# IPython Slideshow UI"
     ]
    },
    {
     "cell_type": "markdown",
     "metadata": {
      "slideshow": {
       "slide_type": "subslide"
      }
     },
     "source": [
      "Open a new notebook (or a previous one) and you will see the **IPython toolbar** containing a new **Cell Toolbar** drowdown menu that give you access to metadata for each cell."
     ]
    },
    {
     "cell_type": "markdown",
     "metadata": {
      "slideshow": {
       "slide_type": "-"
      }
     },
     "source": [
      "![imagen](/files/ui1.png)"
     ]
    },
    {
     "cell_type": "markdown",
     "metadata": {
      "slideshow": {
       "slide_type": "subslide"
      }
     },
     "source": [
      "If you select the **Slideshow** preset, you will see in the right corner of each cell a little box: "
     ]
    },
    {
     "cell_type": "markdown",
     "metadata": {},
     "source": [
      "![imagen](/files/ui2.png)"
     ]
    },
    {
     "cell_type": "markdown",
     "metadata": {},
     "source": [
      "a dropdown menu with the following labels:\n",
      "\n",
      "* -\n",
      "* Slide\n",
      "* Sub-Slide\n",
      "* Fragment\n",
      "* Skip\n",
      "* Notes"
     ]
    },
    {
     "cell_type": "markdown",
     "metadata": {},
     "source": [
      "Let me show you the *live* [notebook](http://127.0.0.1:8888/IPython-powered_Slideshow_Reveal-ed.ipynb)..."
     ]
    },
    {
     "cell_type": "markdown",
     "metadata": {
      "slideshow": {
       "align_type": "Left",
       "slide_type": "slide"
      }
     },
     "source": [
      "# Slides"
     ]
    },
    {
     "cell_type": "markdown",
     "metadata": {
      "slideshow": {
       "slide_type": "subslide"
      }
     },
     "source": [
      "Slides are just slides, they are **horizontally aligned**... you have seen them before. \n",
      "\n",
      "OK, I am lying to you a little bit... \n",
      "\n",
      "**Slides are the main logical unit of information in this slideshow framework.** \n",
      "\n",
      "And they encompass all the other labels.\n",
      "\n",
      "To **navigate** them just go backward with **left arrow** or go forward with **right arrow**."
     ]
    },
    {
     "cell_type": "markdown",
     "metadata": {
      "slideshow": {
       "slide_type": "slide"
      }
     },
     "source": [
      "# Sub-Slides"
     ]
    },
    {
     "cell_type": "markdown",
     "metadata": {
      "slideshow": {
       "slide_type": "subslide"
      }
     },
     "source": [
      "Sub-slides are **vertically** aligned slides (you have seen them before too). \n",
      "\n",
      "They belong to a greater group: a Slide. \n",
      "\n",
      "So, you must **add** a new Sub-Slide after a previous cell labelled as Slide. \n",
      "\n",
      "Then you can **add more** Sub-Slides if you want and will be rendered as vertically aligned slides until you label a new cell as Slide. \n",
      "\n",
      "To **navigate** them just use the **down arrow** or **up arrow**.\n",
      "\n",
      "Test it now...  "
     ]
    },
    {
     "cell_type": "markdown",
     "metadata": {
      "slideshow": {
       "slide_type": "subslide"
      }
     },
     "source": [
      "# Test Sub-Slide 1 level\n",
      "\n",
      "Have you notice the **controller** at the **bottom right** of the slide?\n",
      "\n",
      "You can navigate with it, if you want (I prefer the keyboard) but it also indicates in which direction you have new Slides or Sub-Slides (darker arrows).\n",
      "\n",
      "Please go down one more time."
     ]
    },
    {
     "cell_type": "markdown",
     "metadata": {
      "slideshow": {
       "slide_type": "subslide"
      }
     },
     "source": [
      "# Test Sub-Slide 2 level\n",
      "\n",
      "You also have a **progression bar** at the **bottom** of the slideshow (blue line) to keep an indication of how many slides have been shown and how many we got ahead."
     ]
    },
    {
     "cell_type": "markdown",
     "metadata": {
      "slideshow": {
       "slide_type": "slide"
      }
     },
     "source": [
      "# Fragments"
     ]
    },
    {
     "cell_type": "markdown",
     "metadata": {
      "slideshow": {
       "slide_type": "subslide"
      }
     },
     "source": [
      "Now we began with some **intra-slides** properties. \n",
      "\n",
      "A Fragment lives inside a Slide or Subslide and it is **constrained** at the **cell level**. \n",
      "\n",
      "You can have **multiple** Fragments inside a slide, which will rendered in descending order following the flow of the cells.\n",
      "\n",
      "Press the right arrow."
     ]
    },
    {
     "cell_type": "markdown",
     "metadata": {
      "slideshow": {
       "slide_type": "fragment"
      }
     },
     "source": [
      "* I am a Fragment."
     ]
    },
    {
     "cell_type": "markdown",
     "metadata": {
      "slideshow": {
       "slide_type": "fragment"
      }
     },
     "source": [
      "* I am another one."
     ]
    },
    {
     "cell_type": "markdown",
     "metadata": {
      "slideshow": {
       "slide_type": "fragment"
      }
     },
     "source": [
      "* And another one."
     ]
    },
    {
     "cell_type": "markdown",
     "metadata": {
      "slideshow": {
       "slide_type": "slide"
      }
     },
     "source": [
      "# Skip"
     ]
    },
    {
     "cell_type": "markdown",
     "metadata": {
      "slideshow": {
       "slide_type": "subslide"
      }
     },
     "source": [
      "If you want to **skip** some cell, just label it as Skip.\n",
      "\n",
      "I will be in the final html slideshow **source** but it **will not be rendered** in your browser. \n",
      "\n",
      "Just let me show you the [notebook](http://127.0.0.1:8888/IPython-powered_Slideshow_Reveal-ed.ipynb#Skip_TAG) again..."
     ]
    },
    {
     "cell_type": "heading",
     "level": 5,
     "metadata": {
      "slideshow": {
       "slide_type": "skip"
      }
     },
     "source": [
      "Skip TAG"
     ]
    },
    {
     "cell_type": "markdown",
     "metadata": {
      "slideshow": {
       "slide_type": "skip"
      }
     },
     "source": [
      "I just skipped the previous tag cell and this one!!!"
     ]
    },
    {
     "cell_type": "markdown",
     "metadata": {
      "slideshow": {
       "slide_type": "slide"
      }
     },
     "source": [
      "# Notes"
     ]
    },
    {
     "cell_type": "markdown",
     "metadata": {
      "slideshow": {
       "slide_type": "subslide"
      }
     },
     "source": [
      "We provided **speaker notes** through the Notes label.\n",
      "\n",
      "These cells **will not be rendered** by your browser inside the main slideshow window. \n",
      "\n",
      "You want to test it? \n",
      "\n",
      "Just press **\"s\"** in you keyboard and you will see a **new emerging window** containing the **current slide**, the **next one**, a simple **timer** and, finally, the **notes**."
     ]
    },
    {
     "cell_type": "markdown",
     "metadata": {
      "slideshow": {
       "slide_type": "notes"
      }
     },
     "source": [
      "I am Notes... the guy showing this framework has to go faster!!!"
     ]
    },
    {
     "cell_type": "markdown",
     "metadata": {
      "slideshow": {
       "slide_type": "slide"
      }
     },
     "source": [
      "# Do nothing cell, just render it: *-*"
     ]
    },
    {
     "cell_type": "markdown",
     "metadata": {
      "slideshow": {
       "slide_type": "-"
      }
     },
     "source": [
      "I think this does not need further explanation."
     ]
    },
    {
     "cell_type": "markdown",
     "metadata": {},
     "source": [
      " \n",
      "\n",
      "Ahh... I am a **\"-\"** cell."
     ]
    },
    {
     "cell_type": "markdown",
     "metadata": {
      "slideshow": {
       "slide_type": "slide"
      }
     },
     "source": [
      "# And now... the reveal magic begins."
     ]
    },
    {
     "cell_type": "markdown",
     "metadata": {
      "slideshow": {
       "slide_type": "subslide"
      }
     },
     "source": [
      "After **labelling** properly the cells in your notebook, you **save** it (do not forget it!) and you are ready to do the next step.\n",
      "\n",
      "First of all, after cloning the nbconvert master, you have to **download** (or clone) the reveal library and move it into the **same** folder where your_slideshow.ipynb lives. "
     ]
    },
    {
     "cell_type": "markdown",
     "metadata": {
      "slideshow": {
       "slide_type": "subslide"
      }
     },
     "source": [
      "Copy your your_slideshow.ipynb inside the nbconvert folder and then:\n",
      "\n",
      "`$ python nbconvert.py reveal your_slideshow.ipynb`\n",
      "\n",
      "Now you have a file: **your_slideshow.reveal.html**, then serve it: \n",
      "\n",
      "`$ python -m SimpleHTTPServer 8000`\n",
      "    \n",
      "Open it and voila!\n",
      "\n",
      "Note: this is **one** way to do it (there are many others ways)."
     ]
    },
    {
     "cell_type": "markdown",
     "metadata": {
      "slideshow": {
       "slide_type": "slide"
      }
     },
     "source": [
      "# Reveal is powerful..."
     ]
    },
    {
     "cell_type": "markdown",
     "metadata": {
      "slideshow": {
       "slide_type": "subslide"
      }
     },
     "source": [
      "# Themes"
     ]
    },
    {
     "cell_type": "markdown",
     "metadata": {
      "slideshow": {
       "slide_type": "subslide"
      }
     },
     "source": [
      "* You want to see use some another themes? Go here: [Sky](link?theme=sky#/11), [Beige](?theme=beige#/11), [Serif](?theme=serif#/11), [Solarized](?theme=solarized#/11). These are the \"light\" themes.\n",
      "\n",
      "**NOTE: To use \"dark\" themes, you have to change some css or use my modified themes (yeah, I will upload them to github soon). **\n",
      "\n",
      "**We (I... do you want to join me? I would be great!) are working in some more customized themes to provide a proper fit with the notebook-derived slideshows.**"
     ]
    },
    {
     "cell_type": "markdown",
     "metadata": {
      "slideshow": {
       "slide_type": "subslide"
      }
     },
     "source": [
      "# Transitions"
     ]
    },
    {
     "cell_type": "markdown",
     "metadata": {
      "slideshow": {
       "slide_type": "subslide"
      }
     },
     "source": [
      "* You want to see use some another transitions? Go here: [Cube](?transition=cube#/11), [Page](?transition=page#/11), [Zoom](?transition=zoom#/11), [Fade](?transition=fade#/11), [None](?transition=none#/11), [Concave](?transition=concave#/11), [Default](?transition=default#/11).\n",
      "\n",
      "\n",
      "**NOTE: Some transitions are better experienced in specific browsers.**"
     ]
    },
    {
     "cell_type": "markdown",
     "metadata": {
      "slideshow": {
       "slide_type": "subslide"
      }
     },
     "source": [
      "# Some other interesting things..."
     ]
    },
    {
     "cell_type": "markdown",
     "metadata": {
      "slideshow": {
       "slide_type": "subslide"
      }
     },
     "source": [
      "* You want to get a overview of the slideshow, just press *\"Esc\"* and Ctrl+/- to zoom in and zoom out."
     ]
    },
    {
     "cell_type": "markdown",
     "metadata": {
      "slideshow": {
       "slide_type": "fragment"
      }
     },
     "source": [
      "* You want to explain some thing, press \"b\" and your audience will not be distracted."
     ]
    },
    {
     "cell_type": "markdown",
     "metadata": {
      "slideshow": {
       "slide_type": "fragment"
      }
     },
     "source": [
      "* You want to get a pdf from your slideshow, with firefox you can get it! More info [here](https://github.com/hakimel/reveal.js#pdf-export)."
     ]
    },
    {
     "cell_type": "markdown",
     "metadata": {
      "slideshow": {
       "slide_type": "subslide"
      }
     },
     "source": [
      "# More Info...\n",
      "\n",
      "We support only some of the basic functionality provided by reveal... if you want go further, you can go [here](https://github.com/hakimel/reveal.js), get info, and customize some things."
     ]
    },
    {
     "cell_type": "markdown",
     "metadata": {
      "slideshow": {
       "slide_type": "fragment"
      }
     },
     "source": [
      "Any question? Ping me: [@damian_avila](http://twitter.com/damian_avila)"
     ]
    },
    {
     "cell_type": "markdown",
     "metadata": {
      "slideshow": {
       "slide_type": "fragment"
      }
     },
     "source": [
      "**And now a classical notebook example...**"
     ]
    },
    {
     "cell_type": "markdown",
     "metadata": {
      "slideshow": {
       "slide_type": "slide"
      }
     },
     "source": [
      "# A brief (adapted) tour of the IPython notebook"
     ]
    },
    {
     "cell_type": "code",
     "collapsed": false,
     "input": [
      "pwd"
     ],
     "language": "python",
     "metadata": {
      "slideshow": {
       "slide_type": "slide"
      }
     },
     "outputs": [
      {
       "metadata": {},
       "output_type": "pyout",
       "prompt_number": 1,
       "text": [
        "u'/home/damian/Desarrollos/To_PR/CONTRIBUTING/nbconvert_folder/uptodate/nbconvert'"
       ]
      }
     ],
     "prompt_number": 1
    },
    {
     "cell_type": "code",
     "collapsed": false,
     "input": [
      "ls"
     ],
     "language": "python",
     "metadata": {},
     "outputs": [
      {
       "output_type": "stream",
       "stream": "stdout",
       "text": [
        "COPYING.txt                                      \u001b[0m\u001b[01;35mpython-logo.svg\u001b[0m\r\n",
        "\u001b[01;35mdamian.png\u001b[0m                                       README.rst\r\n",
        "\u001b[01;35mfernando.png\u001b[0m                                     \u001b[01;34mreveal.js\u001b[0m/\r\n",
        "flare.json                                       \u001b[01;35mreveal.png\u001b[0m\r\n",
        "\u001b[01;34mIPython-powered_Slideshow_Reveal-ed_files\u001b[0m/       reveal_preview.py\r\n",
        "IPython-powered_Slideshow_Reveal-ed.ipynb        \u001b[01;35mSin nombre.xcf\u001b[0m\r\n",
        "IPython-powered_Slideshow_Reveal-ed.reveal.html  soundcloud.py\r\n",
        "\u001b[01;35mlogo.png\u001b[0m                                         \u001b[01;35mui1.png\u001b[0m\r\n",
        "\u001b[01;34mnbconvert\u001b[0m/                                       \u001b[01;35mui2.png\u001b[0m\r\n",
        "\u001b[01;34mnbconvert1\u001b[0m/                                      \u001b[01;35mui.png\u001b[0m\r\n",
        "\u001b[01;32mnbconvert.py\u001b[0m*                                    \u001b[01;35mwes.png\u001b[0m\r\n"
       ]
      }
     ],
     "prompt_number": 2
    },
    {
     "cell_type": "code",
     "collapsed": false,
     "input": [
      "message = 'The IPython notebook is great!'\n",
      "# note: the echo command does not run on Windows, it's a unix command.\n",
      "!echo $message"
     ],
     "language": "python",
     "metadata": {},
     "outputs": [
      {
       "output_type": "stream",
       "stream": "stdout",
       "text": [
        "The IPython notebook is great!\r\n"
       ]
      }
     ],
     "prompt_number": 3
    },
    {
     "cell_type": "markdown",
     "metadata": {
      "slideshow": {
       "slide_type": "slide"
      }
     },
     "source": [
      "# Plots with matplotlib"
     ]
    },
    {
     "cell_type": "markdown",
     "metadata": {},
     "source": [
      "IPython adds an 'inline' matplotlib backend,\n",
      "which embeds any matplotlib figures into the notebook."
     ]
    },
    {
     "cell_type": "code",
     "collapsed": false,
     "input": [
      "%pylab inline"
     ],
     "language": "python",
     "metadata": {},
     "outputs": [
      {
       "output_type": "stream",
       "stream": "stdout",
       "text": [
        "\n",
        "Welcome to pylab, a matplotlib-based Python environment [backend: module://IPython.kernel.zmq.pylab.backend_inline].\n",
        "For more information, type 'help(pylab)'.\n"
       ]
      }
     ],
     "prompt_number": 4
    },
    {
     "cell_type": "code",
     "collapsed": false,
     "input": [
      "x = linspace(0, 3*pi, 500)\n",
      "plot(x, sin(x**2))\n",
      "title('A simple chirp');"
     ],
     "language": "python",
     "metadata": {},
     "outputs": [
      {
       "metadata": {},
       "output_type": "display_data",
       "png": "[encoded data removed]",
       "text": [
        "<matplotlib.figure.Figure at 0xa67a4ec>"
       ]
      }
     ],
     "prompt_number": 5
    },
    {
     "cell_type": "markdown",
     "metadata": {
      "slideshow": {
       "slide_type": "subslide"
      }
     },
     "source": [
      "You can paste blocks of input with prompt markers, such as those from\n",
      "[the official Python tutorial](http://docs.python.org/tutorial/interpreter.html#interactive-mode)"
     ]
    },
    {
     "cell_type": "code",
     "collapsed": false,
     "input": [
      ">>> the_world_is_flat = 1\n",
      ">>> if the_world_is_flat:\n",
      "...     print \"Be careful not to fall off!\""
     ],
     "language": "python",
     "metadata": {},
     "outputs": [
      {
       "output_type": "stream",
       "stream": "stdout",
       "text": [
        "Be careful not to fall off!\n"
       ]
      }
     ],
     "prompt_number": 6
    },
    {
     "cell_type": "markdown",
     "metadata": {
      "slideshow": {
       "slide_type": "subslide"
      }
     },
     "source": [
      "Errors are shown in informative ways:"
     ]
    },
    {
     "cell_type": "code",
     "collapsed": false,
     "input": [
      "%run non_existent_file"
     ],
     "language": "python",
     "metadata": {},
     "outputs": [
      {
       "output_type": "stream",
       "stream": "stderr",
       "text": [
        "ERROR: File `u'non_existent_file.py'` not found.\n"
       ]
      }
     ],
     "prompt_number": 7
    },
    {
     "cell_type": "code",
     "collapsed": false,
     "input": [
      "x = 1\n",
      "y = 4\n",
      "z = y/(1-x)"
     ],
     "language": "python",
     "metadata": {},
     "outputs": [
      {
       "ename": "ZeroDivisionError",
       "evalue": "integer division or modulo by zero",
       "output_type": "pyerr",
       "traceback": [
        "\u001b[1;31m---------------------------------------------------------------------------\u001b[0m\n\u001b[1;31mZeroDivisionError\u001b[0m                         Traceback (most recent call last)",
        "\u001b[1;32m<ipython-input-8-dc39888fd1d2>\u001b[0m in \u001b[0;36m<module>\u001b[1;34m()\u001b[0m\n\u001b[0;32m      1\u001b[0m \u001b[0mx\u001b[0m \u001b[1;33m=\u001b[0m \u001b[1;36m1\u001b[0m\u001b[1;33m\u001b[0m\u001b[0m\n\u001b[0;32m      2\u001b[0m \u001b[0my\u001b[0m \u001b[1;33m=\u001b[0m \u001b[1;36m4\u001b[0m\u001b[1;33m\u001b[0m\u001b[0m\n\u001b[1;32m----> 3\u001b[1;33m \u001b[0mz\u001b[0m \u001b[1;33m=\u001b[0m \u001b[0my\u001b[0m\u001b[1;33m/\u001b[0m\u001b[1;33m(\u001b[0m\u001b[1;36m1\u001b[0m\u001b[1;33m-\u001b[0m\u001b[0mx\u001b[0m\u001b[1;33m)\u001b[0m\u001b[1;33m\u001b[0m\u001b[0m\n\u001b[0m",
        "\u001b[1;31mZeroDivisionError\u001b[0m: integer division or modulo by zero"
       ]
      }
     ],
     "prompt_number": 8
    },
    {
     "cell_type": "markdown",
     "metadata": {
      "slideshow": {
       "slide_type": "subslide"
      }
     },
     "source": [
      "When IPython needs to display additional information (such as providing details on an object via `x?`\n",
      "it will automatically invoke a pager at the bottom of the screen:"
     ]
    },
    {
     "cell_type": "code",
     "collapsed": false,
     "input": [
      "magic?"
     ],
     "language": "python",
     "metadata": {
      "slideshow": {
       "slide_type": "fragment"
      }
     },
     "outputs": [],
     "prompt_number": 9
    },
    {
     "cell_type": "markdown",
     "metadata": {
      "slideshow": {
       "slide_type": "slide"
      }
     },
     "source": [
      "# Non-blocking output of kernel\n",
      "\n",
      "If you execute the next cell, you will see the output arriving as it is generated, not all at the end."
     ]
    },
    {
     "cell_type": "code",
     "collapsed": false,
     "input": [
      "import time, sys\n",
      "for i in range(8):\n",
      "    print i,\n",
      "    time.sleep(0.5)"
     ],
     "language": "python",
     "metadata": {},
     "outputs": [
      {
       "output_type": "stream",
       "stream": "stdout",
       "text": [
        "0 "
       ]
      },
      {
       "output_type": "stream",
       "stream": "stdout",
       "text": [
        "1 "
       ]
      },
      {
       "output_type": "stream",
       "stream": "stdout",
       "text": [
        "2 "
       ]
      },
      {
       "output_type": "stream",
       "stream": "stdout",
       "text": [
        "3 "
       ]
      },
      {
       "output_type": "stream",
       "stream": "stdout",
       "text": [
        "4 "
       ]
      },
      {
       "output_type": "stream",
       "stream": "stdout",
       "text": [
        "5 "
       ]
      },
      {
       "output_type": "stream",
       "stream": "stdout",
       "text": [
        "6 "
       ]
      },
      {
       "output_type": "stream",
       "stream": "stdout",
       "text": [
        "7\n"
       ]
      }
     ],
     "prompt_number": 10
    },
    {
     "cell_type": "markdown",
     "metadata": {
      "slideshow": {
       "slide_type": "slide"
      }
     },
     "source": [
      "# Clean crash and restart\n",
      "\n",
      "We call the low-level system libc.time routine with the wrong argument via\n",
      "ctypes to segfault the Python interpreter:"
     ]
    },
    {
     "cell_type": "code",
     "collapsed": false,
     "input": [
      "import sys\n",
      "from ctypes import CDLL\n",
      "# This will crash a Linux or Mac system; equivalent calls can be made on Windows\n",
      "dll = 'dylib' if sys.platform == 'darwin' else '.so.6'\n",
      "libc = CDLL(\"libc.%s\" % dll) \n",
      "libc.time(-1)  # BOOM!!"
     ],
     "language": "python",
     "metadata": {},
     "outputs": [],
     "prompt_number": "*"
    },
    {
     "cell_type": "markdown",
     "metadata": {
      "slideshow": {
       "slide_type": "slide"
      }
     },
     "source": [
      "# Markdown cells can contain formatted text and code\n",
      "\n",
      "You can *italicize*, **boldface**\n",
      "\n",
      "* build\n",
      "* lists\n",
      "\n",
      "and embed code meant for illustration instead of execution in Python:\n",
      "\n",
      "    def f(x):\n",
      "        \"\"\"a docstring\"\"\"\n",
      "        return x**2"
     ]
    },
    {
     "cell_type": "markdown",
     "metadata": {
      "slideshow": {
       "slide_type": "subslide"
      }
     },
     "source": [
      "Courtesy of MathJax, you can include mathematical expressions both inline: \n",
      "$e^{i\\pi} + 1 = 0$  and displayed:\n",
      "\n",
      "$$e^x=\\sum_{i=0}^\\infty \\frac{1}{i!}x^i$$"
     ]
    },
    {
     "cell_type": "markdown",
     "metadata": {
      "slideshow": {
       "slide_type": "slide"
      }
     },
     "source": [
      "# Rich displays: include anything a browser can show\n",
      "\n",
      "In Python, objects can declare their textual representation using the `__repr__` method.  IPython expands on this idea and allows objects to declare other, richer representations including:\n",
      "\n",
      "* HTML\n",
      "* JSON\n",
      "* PNG\n",
      "* JPEG\n",
      "* SVG\n",
      "* LaTeX\n",
      "\n",
      "A single object can declare some or all of these representations; all are handled by IPython's *display system*. This Notebook shows how you can use this display system to incorporate a broad range of content into your Notebooks."
     ]
    },
    {
     "cell_type": "markdown",
     "metadata": {
      "slideshow": {
       "slide_type": "slide"
      }
     },
     "source": [
      "# Images"
     ]
    },
    {
     "cell_type": "code",
     "collapsed": false,
     "input": [
      "from IPython.display import Image\n",
      "Image(filename='logo.png')"
     ],
     "language": "python",
     "metadata": {
      "slideshow": {
       "slide_type": "subslide"
      }
     },
     "outputs": [
      {
       "metadata": {},
       "output_type": "pyout",
       "png": "[encoded data removed]",
       "prompt_number": 11,
       "text": [
        "<IPython.core.display.Image at 0xa7a25ec>"
       ]
      }
     ],
     "prompt_number": 11
    },
    {
     "cell_type": "markdown",
     "metadata": {
      "slideshow": {
       "slide_type": "-"
      }
     },
     "source": [
      "An image can also be displayed from raw data or a url:"
     ]
    },
    {
     "cell_type": "code",
     "collapsed": false,
     "input": [
      "Image(url='http://python.org/images/python-logo.gif')"
     ],
     "language": "python",
     "metadata": {},
     "outputs": [
      {
       "html": [
        "<img src=\"http://python.org/images/python-logo.gif\"/>"
       ],
       "metadata": {},
       "output_type": "pyout",
       "prompt_number": 12,
       "text": [
        "<IPython.core.display.Image at 0xa7a2c4c>"
       ]
      }
     ],
     "prompt_number": 12
    },
    {
     "cell_type": "markdown",
     "metadata": {
      "slideshow": {
       "slide_type": "skip"
      }
     },
     "source": [
      "SVG images are also supported out of the box (since modern browsers do a good job of rendering them):"
     ]
    },
    {
     "cell_type": "code",
     "collapsed": false,
     "input": [
      "from IPython.display import SVG\n",
      "SVG(filename='python-logo.svg')"
     ],
     "language": "python",
     "metadata": {
      "slideshow": {
       "slide_type": "skip"
      }
     },
     "outputs": [
      {
       "metadata": {},
       "output_type": "pyout",
       "prompt_number": 13,
       "svg": [
        "<svg height=\"115.02pt\" id=\"svg2\" inkscape:version=\"0.43\" sodipodi:docbase=\"/home/sdeibel\" sodipodi:docname=\"logo-python-generic.svg\" sodipodi:version=\"0.32\" version=\"1.0\" width=\"388.84pt\" xmlns=\"http://www.w3.org/2000/svg\" xmlns:cc=\"http://web.resource.org/cc/\" xmlns:dc=\"http://purl.org/dc/elements/1.1/\" xmlns:inkscape=\"http://www.inkscape.org/namespaces/inkscape\" xmlns:rdf=\"http://www.w3.org/1999/02/22-rdf-syntax-ns#\" xmlns:sodipodi=\"http://inkscape.sourceforge.net/DTD/sodipodi-0.dtd\" xmlns:svg=\"http://www.w3.org/2000/svg\" xmlns:xlink=\"http://www.w3.org/1999/xlink\">\n",
        "  <metadata id=\"metadata2193\">\n",
        "    <rdf:RDF>\n",
        "      <cc:Work rdf:about=\"\">\n",
        "        <dc:format>image/svg+xml</dc:format>\n",
        "        <dc:type rdf:resource=\"http://purl.org/dc/dcmitype/StillImage\"/>\n",
        "      </cc:Work>\n",
        "    </rdf:RDF>\n",
        "  </metadata>\n",
        "  <sodipodi:namedview bordercolor=\"#666666\" borderopacity=\"1.0\" id=\"base\" inkscape:current-layer=\"svg2\" inkscape:cx=\"243.02499\" inkscape:cy=\"71.887497\" inkscape:pageopacity=\"0.0\" inkscape:pageshadow=\"2\" inkscape:window-height=\"543\" inkscape:window-width=\"791\" inkscape:window-x=\"0\" inkscape:window-y=\"0\" inkscape:zoom=\"1.4340089\" pagecolor=\"#ffffff\"/>\n",
        "  <defs id=\"defs4\">\n",
        "    <linearGradient id=\"linearGradient2795\">\n",
        "      <stop id=\"stop2797\" offset=\"0\" style=\"stop-color:#b8b8b8;stop-opacity:0.49803922\"/>\n",
        "      <stop id=\"stop2799\" offset=\"1\" style=\"stop-color:#7f7f7f;stop-opacity:0\"/>\n",
        "    </linearGradient>\n",
        "    <linearGradient id=\"linearGradient2787\">\n",
        "      <stop id=\"stop2789\" offset=\"0\" style=\"stop-color:#7f7f7f;stop-opacity:0.5\"/>\n",
        "      <stop id=\"stop2791\" offset=\"1\" style=\"stop-color:#7f7f7f;stop-opacity:0\"/>\n",
        "    </linearGradient>\n",
        "    <linearGradient id=\"linearGradient3676\">\n",
        "      <stop id=\"stop3678\" offset=\"0\" style=\"stop-color:#b2b2b2;stop-opacity:0.5\"/>\n",
        "      <stop id=\"stop3680\" offset=\"1\" style=\"stop-color:#b3b3b3;stop-opacity:0\"/>\n",
        "    </linearGradient>\n",
        "    <linearGradient id=\"linearGradient3236\">\n",
        "      <stop id=\"stop3244\" offset=\"0\" style=\"stop-color:#f4f4f4;stop-opacity:1\"/>\n",
        "      <stop id=\"stop3240\" offset=\"1\" style=\"stop-color:#ffffff;stop-opacity:1\"/>\n",
        "    </linearGradient>\n",
        "    <linearGradient id=\"linearGradient4671\">\n",
        "      <stop id=\"stop4673\" offset=\"0\" style=\"stop-color:#ffd43b;stop-opacity:1\"/>\n",
        "      <stop id=\"stop4675\" offset=\"1\" style=\"stop-color:#ffe873;stop-opacity:1\"/>\n",
        "    </linearGradient>\n",
        "    <linearGradient id=\"linearGradient4689\">\n",
        "      <stop id=\"stop4691\" offset=\"0\" style=\"stop-color:#5a9fd4;stop-opacity:1\"/>\n",
        "      <stop id=\"stop4693\" offset=\"1\" style=\"stop-color:#306998;stop-opacity:1\"/>\n",
        "    </linearGradient>\n",
        "    <linearGradient gradientTransform=\"translate(100.2702,99.61116)\" gradientUnits=\"userSpaceOnUse\" id=\"linearGradient2987\" x1=\"224.23996\" x2=\"-65.308502\" xlink:href=\"#linearGradient4671\" y1=\"144.75717\" y2=\"144.75717\"/>\n",
        "    <linearGradient gradientTransform=\"translate(100.2702,99.61116)\" gradientUnits=\"userSpaceOnUse\" id=\"linearGradient2990\" x1=\"172.94208\" x2=\"26.670298\" xlink:href=\"#linearGradient4689\" y1=\"77.475983\" y2=\"76.313133\"/>\n",
        "    <linearGradient gradientTransform=\"translate(100.2702,99.61116)\" gradientUnits=\"userSpaceOnUse\" id=\"linearGradient2587\" x1=\"172.94208\" x2=\"26.670298\" xlink:href=\"#linearGradient4689\" y1=\"77.475983\" y2=\"76.313133\"/>\n",
        "    <linearGradient gradientTransform=\"translate(100.2702,99.61116)\" gradientUnits=\"userSpaceOnUse\" id=\"linearGradient2589\" x1=\"224.23996\" x2=\"-65.308502\" xlink:href=\"#linearGradient4671\" y1=\"144.75717\" y2=\"144.75717\"/>\n",
        "    <linearGradient gradientTransform=\"translate(100.2702,99.61116)\" gradientUnits=\"userSpaceOnUse\" id=\"linearGradient2248\" x1=\"172.94208\" x2=\"26.670298\" xlink:href=\"#linearGradient4689\" y1=\"77.475983\" y2=\"76.313133\"/>\n",
        "    <linearGradient gradientTransform=\"translate(100.2702,99.61116)\" gradientUnits=\"userSpaceOnUse\" id=\"linearGradient2250\" x1=\"224.23996\" x2=\"-65.308502\" xlink:href=\"#linearGradient4671\" y1=\"144.75717\" y2=\"144.75717\"/>\n",
        "    <linearGradient gradientTransform=\"matrix(0.562541,0,0,0.567972,-11.5974,-7.60954)\" gradientUnits=\"userSpaceOnUse\" id=\"linearGradient2255\" x1=\"224.23996\" x2=\"-65.308502\" xlink:href=\"#linearGradient4671\" y1=\"144.75717\" y2=\"144.75717\"/>\n",
        "    <linearGradient gradientTransform=\"matrix(0.562541,0,0,0.567972,-11.5974,-7.60954)\" gradientUnits=\"userSpaceOnUse\" id=\"linearGradient2258\" x1=\"172.94208\" x2=\"26.670298\" xlink:href=\"#linearGradient4689\" y1=\"76.176224\" y2=\"76.313133\"/>\n",
        "    <radialGradient cx=\"61.518883\" cy=\"132.28575\" fx=\"61.518883\" fy=\"132.28575\" gradientTransform=\"matrix(1,0,0,0.177966,0,108.7434)\" gradientUnits=\"userSpaceOnUse\" id=\"radialGradient2801\" r=\"29.036913\" xlink:href=\"#linearGradient2795\"/>\n",
        "    <linearGradient gradientTransform=\"matrix(0.562541,0,0,0.567972,-9.399749,-5.305317)\" gradientUnits=\"userSpaceOnUse\" id=\"linearGradient1475\" x1=\"150.96111\" x2=\"112.03144\" xlink:href=\"#linearGradient4671\" y1=\"192.35176\" y2=\"137.27299\"/>\n",
        "    <linearGradient gradientTransform=\"matrix(0.562541,0,0,0.567972,-9.399749,-5.305317)\" gradientUnits=\"userSpaceOnUse\" id=\"linearGradient1478\" x1=\"26.648937\" x2=\"135.66525\" xlink:href=\"#linearGradient4689\" y1=\"20.603781\" y2=\"114.39767\"/>\n",
        "    <radialGradient cx=\"61.518883\" cy=\"132.28575\" fx=\"61.518883\" fy=\"132.28575\" gradientTransform=\"matrix(2.382716e-8,-0.296405,1.43676,4.683673e-7,-128.544,150.5202)\" gradientUnits=\"userSpaceOnUse\" id=\"radialGradient1480\" r=\"29.036913\" xlink:href=\"#linearGradient2795\"/>\n",
        "  </defs>\n",
        "  <g id=\"g2303\">\n",
        "    <path d=\"M 184.61344,61.929363 C 184.61344,47.367213 180.46118,39.891193 172.15666,39.481813 C 168.85239,39.325863 165.62611,39.852203 162.48754,41.070593 C 159.98254,41.967323 158.2963,42.854313 157.40931,43.751043 L 157.40931,78.509163 C 162.72147,81.842673 167.43907,83.392453 171.55234,83.148783 C 180.25649,82.573703 184.61344,75.507063 184.61344,61.929363 z M 194.85763,62.533683 C 194.85763,69.931723 193.12265,76.072393 189.63319,80.955683 C 185.7441,86.482283 180.35396,89.328433 173.46277,89.484393 C 168.26757,89.650093 162.91642,88.022323 157.40931,84.610843 L 157.40931,116.20116 L 148.50047,113.02361 L 148.50047,42.903043 C 149.96253,41.109583 151.84372,39.569543 154.12454,38.263433 C 159.42696,35.173603 165.86978,33.584823 173.45302,33.506853 L 173.57973,33.633563 C 180.50991,33.545833 185.85132,36.391993 189.60395,42.162263 C 193.10315,47.454933 194.85763,54.238913 194.85763,62.533683 z \" id=\"path46\" style=\"fill:#646464;fill-opacity:1\"/>\n",
        "    <path d=\"M 249.30487,83.265743 C 249.30487,93.188283 248.31067,100.05998 246.32227,103.88084 C 244.32411,107.7017 240.52275,110.75254 234.90842,113.02361 C 230.35653,114.81707 225.43425,115.79178 220.15133,115.95748 L 218.67952,110.34316 C 224.05016,109.61213 227.83204,108.88109 230.02513,108.15006 C 234.34309,106.688 237.30621,104.44617 238.93397,101.44406 C 240.24008,98.997543 240.88339,94.328693 240.88339,87.418003 L 240.88339,85.098203 C 234.79146,87.866373 228.40711,89.240713 221.73036,89.240713 C 217.34417,89.240713 213.47457,87.866373 210.14107,85.098203 C 206.39818,82.086343 204.52674,78.265483 204.52674,73.635623 L 204.52674,36.557693 L 213.43558,33.506853 L 213.43558,70.828453 C 213.43558,74.815013 214.7222,77.885353 217.29543,80.039463 C 219.86866,82.193563 223.20217,83.226753 227.2862,83.148783 C 231.37023,83.061053 235.74667,81.482023 240.39603,78.392203 L 240.39603,34.851953 L 249.30487,34.851953 L 249.30487,83.265743 z \" id=\"path48\" style=\"fill:#646464;fill-opacity:1\"/>\n",
        "    <path d=\"M 284.08249,88.997033 C 283.02006,89.084753 282.04535,89.123743 281.14862,89.123743 C 276.10937,89.123743 272.18129,87.924853 269.37413,85.517323 C 266.57671,83.109793 265.17314,79.786033 265.17314,75.546053 L 265.17314,40.456523 L 259.07146,40.456523 L 259.07146,34.851953 L 265.17314,34.851953 L 265.17314,19.968143 L 274.07223,16.800333 L 274.07223,34.851953 L 284.08249,34.851953 L 284.08249,40.456523 L 274.07223,40.456523 L 274.07223,75.302373 C 274.07223,78.645623 274.96896,81.014163 276.76243,82.398253 C 278.30247,83.538663 280.74899,84.191723 284.08249,84.357423 L 284.08249,88.997033 z \" id=\"path50\" style=\"fill:#646464;fill-opacity:1\"/>\n",
        "    <path d=\"M 338.02288,88.266003 L 329.11404,88.266003 L 329.11404,53.878273 C 329.11404,50.379063 328.29528,47.367213 326.66753,44.852463 C 324.78634,42.006313 322.17411,40.583233 318.82112,40.583233 C 314.73708,40.583233 309.6296,42.737343 303.4987,47.045563 L 303.4987,88.266003 L 294.58985,88.266003 L 294.58985,6.0687929 L 303.4987,3.2616329 L 303.4987,40.700203 C 309.191,36.557693 315.40963,34.481563 322.16436,34.481563 C 326.88196,34.481563 330.70282,36.070333 333.62694,39.238143 C 336.56082,42.405943 338.02288,46.353513 338.02288,51.071103 L 338.02288,88.266003 L 338.02288,88.266003 z \" id=\"path52\" style=\"fill:#646464;fill-opacity:1\"/>\n",
        "    <path d=\"M 385.37424,60.525783 C 385.37424,54.930953 384.31182,50.310833 382.19669,46.655673 C 379.68195,42.201253 375.77337,39.852203 370.49044,39.608523 C 360.72386,40.173863 355.85032,47.172273 355.85032,60.584263 C 355.85032,66.734683 356.86401,71.871393 358.91089,75.994413 C 361.52312,81.248093 365.44145,83.840823 370.66589,83.753103 C 380.47146,83.675123 385.37424,75.935933 385.37424,60.525783 z M 395.13109,60.584263 C 395.13109,68.547643 393.09395,75.175663 389.02941,80.468333 C 384.5555,86.394563 378.37584,89.367423 370.49044,89.367423 C 362.67328,89.367423 356.58135,86.394563 352.18541,80.468333 C 348.19885,75.175663 346.21044,68.547643 346.21044,60.584263 C 346.21044,53.098503 348.36455,46.801883 352.67276,41.674913 C 357.22466,36.236033 363.20937,33.506853 370.6074,33.506853 C 378.00545,33.506853 384.02914,36.236033 388.66877,41.674913 C 392.97697,46.801883 395.13109,53.098503 395.13109,60.584263 z \" id=\"path54\" style=\"fill:#646464;fill-opacity:1\"/>\n",
        "    <path d=\"M 446.20583,88.266003 L 437.29699,88.266003 L 437.29699,51.928853 C 437.29699,47.942293 436.0981,44.832973 433.70032,42.591133 C 431.30253,40.359053 428.10549,39.277123 424.11893,39.364853 C 419.8887,39.442833 415.86314,40.826913 412.04229,43.507363 L 412.04229,88.266003 L 403.13345,88.266003 L 403.13345,42.405943 C 408.26042,38.672813 412.97801,36.236033 417.28621,35.095623 C 421.35076,34.033193 424.93769,33.506853 428.02752,33.506853 C 430.14264,33.506853 432.13104,33.711543 434.00248,34.120913 C 437.50169,34.929923 440.34783,36.430973 442.54093,38.633823 C 444.98744,41.070593 446.20583,43.994723 446.20583,47.415943 L 446.20583,88.266003 z \" id=\"path56\" style=\"fill:#646464;fill-opacity:1\"/>\n",
        "    <path d=\"M 60.510156,6.3979729 C 55.926503,6.4192712 51.549217,6.8101906 47.697656,7.4917229 C 36.35144,9.4962267 34.291407,13.691825 34.291406,21.429223 L 34.291406,31.647973 L 61.103906,31.647973 L 61.103906,35.054223 L 34.291406,35.054223 L 24.228906,35.054223 C 16.436447,35.054223 9.6131468,39.73794 7.4789058,48.647973 C 5.0170858,58.860939 4.9078907,65.233996 7.4789058,75.897973 C 9.3848341,83.835825 13.936449,89.491721 21.728906,89.491723 L 30.947656,89.491723 L 30.947656,77.241723 C 30.947656,68.391821 38.6048,60.585475 47.697656,60.585473 L 74.478906,60.585473 C 81.933857,60.585473 87.885159,54.447309 87.885156,46.960473 L 87.885156,21.429223 C 87.885156,14.162884 81.755176,8.7044455 74.478906,7.4917229 C 69.872919,6.7249976 65.093809,6.3766746 60.510156,6.3979729 z M 46.010156,14.616723 C 48.779703,14.616723 51.041406,16.915369 51.041406,19.741723 C 51.041404,22.558059 48.779703,24.835473 46.010156,24.835473 C 43.23068,24.835472 40.978906,22.558058 40.978906,19.741723 C 40.978905,16.91537 43.23068,14.616723 46.010156,14.616723 z \" id=\"path1948\" style=\"fill:url(#linearGradient1478);fill-opacity:1\"/>\n",
        "    <path d=\"M 91.228906,35.054223 L 91.228906,46.960473 C 91.228906,56.191228 83.403011,63.960472 74.478906,63.960473 L 47.697656,63.960473 C 40.361823,63.960473 34.291407,70.238956 34.291406,77.585473 L 34.291406,103.11672 C 34.291406,110.38306 40.609994,114.65704 47.697656,116.74172 C 56.184987,119.23733 64.323893,119.68835 74.478906,116.74172 C 81.229061,114.78733 87.885159,110.85411 87.885156,103.11672 L 87.885156,92.897973 L 61.103906,92.897973 L 61.103906,89.491723 L 87.885156,89.491723 L 101.29141,89.491723 C 109.08387,89.491723 111.98766,84.056315 114.69765,75.897973 C 117.49698,67.499087 117.37787,59.422197 114.69765,48.647973 C 112.77187,40.890532 109.09378,35.054223 101.29141,35.054223 L 91.228906,35.054223 z M 76.166406,99.710473 C 78.945884,99.710476 81.197656,101.98789 81.197656,104.80422 C 81.197654,107.63057 78.945881,109.92922 76.166406,109.92922 C 73.396856,109.92922 71.135156,107.63057 71.135156,104.80422 C 71.135158,101.98789 73.396853,99.710473 76.166406,99.710473 z \" id=\"path1950\" style=\"fill:url(#linearGradient1475);fill-opacity:1\"/>\n",
        "    <path d=\"M 463.5544,26.909383 L 465.11635,26.909383 L 465.11635,17.113143 L 468.81648,17.113143 L 468.81648,15.945483 L 459.85427,15.945483 L 459.85427,17.113143 L 463.5544,17.113143 L 463.5544,26.909383 M 470.20142,26.909383 L 471.53589,26.909383 L 471.53589,17.962353 L 474.4323,26.908259 L 475.91799,26.908259 L 478.93615,17.992683 L 478.93615,26.909383 L 480.39194,26.909383 L 480.39194,15.945483 L 478.46605,15.945483 L 475.16774,25.33834 L 472.35477,15.945483 L 470.20142,15.945483 L 470.20142,26.909383\" id=\"text3004\" style=\"font-size:15.16445827px;font-style:normal;font-weight:normal;line-height:125%;fill:#646464;fill-opacity:1;stroke:none;stroke-width:1px;stroke-linecap:butt;stroke-linejoin:miter;stroke-opacity:1;font-family:Bitstream Vera Sans\"/>\n",
        "    <path d=\"M 110.46717 132.28575 A 48.948284 8.6066771 0 1 1  12.570599,132.28575 A 48.948284 8.6066771 0 1 1  110.46717 132.28575 z\" id=\"path1894\" style=\"opacity:0.44382019;fill:url(#radialGradient1480);fill-opacity:1;fill-rule:nonzero;stroke:none;stroke-width:20;stroke-miterlimit:4;stroke-dasharray:none;stroke-opacity:1\" transform=\"matrix(0.73406,0,0,0.809524,16.24958,27.00935)\"/>\n",
        "  </g>\n",
        "</svg>"
       ],
       "text": [
        "<IPython.core.display.SVG at 0xa7a230c>"
       ]
      }
     ],
     "prompt_number": 13
    },
    {
     "cell_type": "markdown",
     "metadata": {
      "slideshow": {
       "slide_type": "subslide"
      }
     },
     "source": [
      "## Embedded vs Non-embedded Images"
     ]
    },
    {
     "cell_type": "markdown",
     "metadata": {},
     "source": [
      "As of IPython 0.13, images are embedded by default for compatibility with QtConsole, and the ability to still be displayed offline.\n",
      "\n",
      "Let's look at the differences:"
     ]
    },
    {
     "cell_type": "code",
     "collapsed": false,
     "input": [
      "# by default Image data are embedded\n",
      "Embed      = Image(    'http://scienceview.berkeley.edu/view/images/newview.jpg')\n",
      "\n",
      "# if kwarg `url` is given, the embedding is assumed to be false\n",
      "SoftLinked = Image(url='http://scienceview.berkeley.edu/view/images/newview.jpg')\n",
      "\n",
      "# In each case, embed can be specified explicitly with the `embed` kwarg\n",
      "# ForceEmbed = Image(url='http://scienceview.berkeley.edu/view/images/newview.jpg', embed=True)"
     ],
     "language": "python",
     "metadata": {},
     "outputs": [],
     "prompt_number": 14
    },
    {
     "cell_type": "markdown",
     "metadata": {
      "slideshow": {
       "slide_type": "subslide"
      }
     },
     "source": [
      "Today's image from a webcam at Berkeley, (at the time I created this notebook). This should also work in the Qtconsole.\n",
      "Drawback is that the saved notebook will be larger, but the image will still be present offline."
     ]
    },
    {
     "cell_type": "code",
     "collapsed": false,
     "input": [
      "Embed"
     ],
     "language": "python",
     "metadata": {},
     "outputs": [
      {
       "jpeg": "[encoded data removed]",
       "metadata": {},
       "output_type": "pyout",
       "prompt_number": 15,
       "text": [
        "<IPython.core.display.Image at 0xa8ddacc>"
       ]
      }
     ],
     "prompt_number": 15
    },
    {
     "cell_type": "markdown",
     "metadata": {
      "slideshow": {
       "slide_type": "subslide"
      }
     },
     "source": [
      "Today's image from same webcam at Berkeley, (refreshed every minutes, if you reload the notebook), visible only with an active internet connexion, that should be different from the previous one. This will not work on Qtconsole.\n",
      "Notebook saved with this kind of image will be lighter and always reflect the current version of the source, but the image won't display offline."
     ]
    },
    {
     "cell_type": "code",
     "collapsed": false,
     "input": [
      "SoftLinked"
     ],
     "language": "python",
     "metadata": {},
     "outputs": [
      {
       "html": [
        "<img src=\"http://scienceview.berkeley.edu/view/images/newview.jpg\"/>"
       ],
       "metadata": {},
       "output_type": "pyout",
       "prompt_number": 16,
       "text": [
        "<IPython.core.display.Image at 0xa8ddf4c>"
       ]
      }
     ],
     "prompt_number": 16
    },
    {
     "cell_type": "markdown",
     "metadata": {
      "slideshow": {
       "slide_type": "skip"
      }
     },
     "source": [
      "Of course, if you re-run the all notebook, the two images will be the same again."
     ]
    },
    {
     "cell_type": "markdown",
     "metadata": {
      "slideshow": {
       "slide_type": "slide"
      }
     },
     "source": [
      "# Video"
     ]
    },
    {
     "cell_type": "markdown",
     "metadata": {
      "slideshow": {
       "slide_type": "subslide"
      }
     },
     "source": [
      "And more exotic objects can also be displayed, as long as their representation supports \n",
      "the IPython display protocol.\n",
      "\n",
      "For example, videos hosted externally on YouTube are easy to load (and writing a similar wrapper for other\n",
      "hosted content is trivial):"
     ]
    },
    {
     "cell_type": "code",
     "collapsed": false,
     "input": [
      "from IPython.display import YouTubeVideo\n",
      "# a talk about IPython at Sage Days at U. Washington, Seattle.\n",
      "# Video credit: William Stein.\n",
      "YouTubeVideo('MIAKOMzRl1I')"
     ],
     "language": "python",
     "metadata": {},
     "outputs": [
      {
       "html": [
        "\n",
        "        <iframe\n",
        "            width=\"400\"\n",
        "            height=300\"\n",
        "            src=\"http://www.youtube.com/embed/MIAKOMzRl1I\"\n",
        "            frameborder=\"0\"\n",
        "            allowfullscreen\n",
        "        ></iframe>\n",
        "        "
       ],
       "metadata": {},
       "output_type": "pyout",
       "prompt_number": 17,
       "text": [
        "<IPython.lib.display.YouTubeVideo at 0xa8cca6c>"
       ]
      }
     ],
     "prompt_number": 17
    },
    {
     "cell_type": "markdown",
     "metadata": {
      "slideshow": {
       "slide_type": "skip"
      }
     },
     "source": [
      "Using the nascent video capabilities of modern browsers, you may also be able to display local\n",
      "videos.  At the moment this doesn't work very well in all browsers, so it may or may not work for you;\n",
      "we will continue testing this and looking for ways to make it more robust.  \n",
      "\n",
      "The following cell loads a local file called  `animation.m4v`, encodes the raw video as base64 for http\n",
      "transport, and uses the HTML5 video tag to load it. On Chrome 15 it works correctly, displaying a control\n",
      "bar at the bottom with a play/pause button and a location slider."
     ]
    },
    {
     "cell_type": "code",
     "collapsed": false,
     "input": [
      "from IPython.display import HTML\n",
      "video = open(\"animation.m4v\", \"rb\").read()\n",
      "video_encoded = video.encode(\"base64\")\n",
      "video_tag = '<video controls alt=\"test\" src=\"data:video/x-m4v;base64,{0}\">'.format(video_encoded)\n",
      "HTML(data=video_tag)"
     ],
     "language": "python",
     "metadata": {
      "slideshow": {
       "slide_type": "skip"
      }
     },
     "outputs": [
      {
       "ename": "IOError",
       "evalue": "[Errno 2] No such file or directory: 'animation.m4v'",
       "output_type": "pyerr",
       "traceback": [
        "\u001b[1;31m---------------------------------------------------------------------------\u001b[0m\n\u001b[1;31mIOError\u001b[0m                                   Traceback (most recent call last)",
        "\u001b[1;32m<ipython-input-18-8b8f5414a141>\u001b[0m in \u001b[0;36m<module>\u001b[1;34m()\u001b[0m\n\u001b[0;32m      1\u001b[0m \u001b[1;32mfrom\u001b[0m \u001b[0mIPython\u001b[0m\u001b[1;33m.\u001b[0m\u001b[0mdisplay\u001b[0m \u001b[1;32mimport\u001b[0m \u001b[0mHTML\u001b[0m\u001b[1;33m\u001b[0m\u001b[0m\n\u001b[1;32m----> 2\u001b[1;33m \u001b[0mvideo\u001b[0m \u001b[1;33m=\u001b[0m \u001b[0mopen\u001b[0m\u001b[1;33m(\u001b[0m\u001b[1;34m\"animation.m4v\"\u001b[0m\u001b[1;33m,\u001b[0m \u001b[1;34m\"rb\"\u001b[0m\u001b[1;33m)\u001b[0m\u001b[1;33m.\u001b[0m\u001b[0mread\u001b[0m\u001b[1;33m(\u001b[0m\u001b[1;33m)\u001b[0m\u001b[1;33m\u001b[0m\u001b[0m\n\u001b[0m\u001b[0;32m      3\u001b[0m \u001b[0mvideo_encoded\u001b[0m \u001b[1;33m=\u001b[0m \u001b[0mvideo\u001b[0m\u001b[1;33m.\u001b[0m\u001b[0mencode\u001b[0m\u001b[1;33m(\u001b[0m\u001b[1;34m\"base64\"\u001b[0m\u001b[1;33m)\u001b[0m\u001b[1;33m\u001b[0m\u001b[0m\n\u001b[0;32m      4\u001b[0m \u001b[0mvideo_tag\u001b[0m \u001b[1;33m=\u001b[0m \u001b[1;34m'<video controls alt=\"test\" src=\"data:video/x-m4v;base64,{0}\">'\u001b[0m\u001b[1;33m.\u001b[0m\u001b[0mformat\u001b[0m\u001b[1;33m(\u001b[0m\u001b[0mvideo_encoded\u001b[0m\u001b[1;33m)\u001b[0m\u001b[1;33m\u001b[0m\u001b[0m\n\u001b[0;32m      5\u001b[0m \u001b[0mHTML\u001b[0m\u001b[1;33m(\u001b[0m\u001b[0mdata\u001b[0m\u001b[1;33m=\u001b[0m\u001b[0mvideo_tag\u001b[0m\u001b[1;33m)\u001b[0m\u001b[1;33m\u001b[0m\u001b[0m\n",
        "\u001b[1;31mIOError\u001b[0m: [Errno 2] No such file or directory: 'animation.m4v'"
       ]
      }
     ],
     "prompt_number": 18
    },
    {
     "cell_type": "markdown",
     "metadata": {
      "slideshow": {
       "slide_type": "slide"
      }
     },
     "source": [
      "# HTML"
     ]
    },
    {
     "cell_type": "markdown",
     "metadata": {
      "slideshow": {
       "slide_type": "subslide"
      }
     },
     "source": [
      "## External sites\n",
      "\n",
      "You can even embed an entire page from another site in an iframe; for example this is today's Wikipedia\n",
      "page for mobile users:"
     ]
    },
    {
     "cell_type": "code",
     "collapsed": false,
     "input": [
      "from IPython.display import HTML\n",
      "HTML('<iframe src=\"http://www.damian.oquanta.info\" width=600 height=400></iframe>')"
     ],
     "language": "python",
     "metadata": {},
     "outputs": [
      {
       "html": [
        "<iframe src=\"http://www.damian.oquanta.info\" width=600 height=400></iframe>"
       ],
       "metadata": {},
       "output_type": "pyout",
       "prompt_number": 19,
       "text": [
        "<IPython.core.display.HTML at 0xa8d274c>"
       ]
      }
     ],
     "prompt_number": 19
    },
    {
     "cell_type": "markdown",
     "metadata": {
      "slideshow": {
       "slide_type": "subslide"
      }
     },
     "source": [
      "## SoundCloud"
     ]
    },
    {
     "cell_type": "code",
     "collapsed": false,
     "input": [
      "%load soundcloud.py"
     ],
     "language": "python",
     "metadata": {},
     "outputs": [],
     "prompt_number": 20
    },
    {
     "cell_type": "code",
     "collapsed": false,
     "input": [
      "from IPython.display import HTML\n",
      "h = HTML(\"\"\"<iframe width=\"100%\" height=\"166\" scrolling=\"no\" frameborder=\"no\" src=\"https://w.soundcloud.com/player/?url=http%3A%2F%2Fapi.soundcloud.com%2Ftracks%2F94543639\"></iframe>\"\"\")\n",
      "display(h)"
     ],
     "language": "python",
     "metadata": {},
     "outputs": [
      {
       "html": [
        "<iframe width=\"100%\" height=\"166\" scrolling=\"no\" frameborder=\"no\" src=\"https://w.soundcloud.com/player/?url=http%3A%2F%2Fapi.soundcloud.com%2Ftracks%2F94543639\"></iframe>"
       ],
       "metadata": {},
       "output_type": "display_data",
       "text": [
        "<IPython.core.display.HTML at 0xa8d224c>"
       ]
      }
     ],
     "prompt_number": 22
    },
    {
     "cell_type": "markdown",
     "metadata": {
      "slideshow": {
       "slide_type": "slide"
      }
     },
     "source": [
      "# Latex"
     ]
    },
    {
     "cell_type": "markdown",
     "metadata": {
      "slideshow": {
       "slide_type": "subslide"
      }
     },
     "source": [
      "And we also support the display of mathematical expressions typeset in LaTeX, which is rendered\n",
      "in the browser thanks to the [MathJax library](http://mathjax.org).  \n",
      "\n",
      "Here we are displaying the output of a Python computation as a LaTeX expression wrapped by the `Math()` object so the browser\n",
      "renders it.  The `Math` object will add the needed LaTeX delimiters (`$$`) if they are not provided:"
     ]
    },
    {
     "cell_type": "code",
     "collapsed": false,
     "input": [
      "from IPython.display import Math\n",
      "Math(r'F(k) = \\int_{-\\infty}^{\\infty} f(x) e^{2\\pi i k} dx')"
     ],
     "language": "python",
     "metadata": {},
     "outputs": [
      {
       "latex": [
        "$$F(k) = \\int_{-\\infty}^{\\infty} f(x) e^{2\\pi i k} dx$$"
       ],
       "metadata": {},
       "output_type": "pyout",
       "prompt_number": 23,
       "text": [
        "<IPython.core.display.Math at 0xa8d234c>"
       ]
      }
     ],
     "prompt_number": 23
    },
    {
     "cell_type": "code",
     "collapsed": false,
     "input": [
      "from IPython.display import Latex\n",
      "Latex(r\"\"\"\\begin{eqnarray}\n",
      "\\nabla \\times \\vec{\\mathbf{B}} -\\, \\frac1c\\, \\frac{\\partial\\vec{\\mathbf{E}}}{\\partial t} & = \\frac{4\\pi}{c}\\vec{\\mathbf{j}} \\\\\n",
      "\\nabla \\cdot \\vec{\\mathbf{E}} & = 4 \\pi \\rho \\\\\n",
      "\\nabla \\times \\vec{\\mathbf{E}}\\, +\\, \\frac1c\\, \\frac{\\partial\\vec{\\mathbf{B}}}{\\partial t} & = \\vec{\\mathbf{0}} \\\\\n",
      "\\nabla \\cdot \\vec{\\mathbf{B}} & = 0 \n",
      "\\end{eqnarray}\"\"\")"
     ],
     "language": "python",
     "metadata": {},
     "outputs": [
      {
       "latex": [
        "\\begin{eqnarray}\n",
        "\\nabla \\times \\vec{\\mathbf{B}} -\\, \\frac1c\\, \\frac{\\partial\\vec{\\mathbf{E}}}{\\partial t} & = \\frac{4\\pi}{c}\\vec{\\mathbf{j}} \\\\\n",
        "\\nabla \\cdot \\vec{\\mathbf{E}} & = 4 \\pi \\rho \\\\\n",
        "\\nabla \\times \\vec{\\mathbf{E}}\\, +\\, \\frac1c\\, \\frac{\\partial\\vec{\\mathbf{B}}}{\\partial t} & = \\vec{\\mathbf{0}} \\\\\n",
        "\\nabla \\cdot \\vec{\\mathbf{B}} & = 0 \n",
        "\\end{eqnarray}"
       ],
       "metadata": {},
       "output_type": "pyout",
       "prompt_number": 24,
       "text": [
        "<IPython.core.display.Latex at 0xa8d252c>"
       ]
      }
     ],
     "prompt_number": 24
    },
    {
     "cell_type": "markdown",
     "metadata": {
      "slideshow": {
       "slide_type": "skip"
      }
     },
     "source": [
      "# Javascript"
     ]
    },
    {
     "cell_type": "code",
     "collapsed": false,
     "input": [
      "from IPython.display import Javascript\n",
      "Javascript(\"\"\"$.getScript('http://d3js.org/d3.v3.min.js')\"\"\")"
     ],
     "language": "python",
     "metadata": {
      "slideshow": {
       "slide_type": "skip"
      }
     },
     "outputs": [
      {
       "javascript": [
        "$.getScript('http://d3js.org/d3.v3.min.js')"
       ],
       "metadata": {},
       "output_type": "pyout",
       "prompt_number": 25,
       "text": [
        "<IPython.core.display.Javascript at 0xa8d20ec>"
       ]
      }
     ],
     "prompt_number": 25
    },
    {
     "cell_type": "code",
     "collapsed": false,
     "input": [
      "HTML(\"\"\"\n",
      "<style>\n",
      "\n",
      "circle {\n",
      "  fill: rgb(31, 119, 180);\n",
      "  fill-opacity: .25;\n",
      "  stroke: rgb(31, 119, 180);\n",
      "  stroke-width: 1px;\n",
      "}\n",
      "\n",
      ".leaf circle {\n",
      "  fill: #ff7f0e;\n",
      "  fill-opacity: 1;\n",
      "}\n",
      "\n",
      "text {\n",
      "  font: 10px sans-serif;\n",
      "}\n",
      "\n",
      "</style>\n",
      "\"\"\")"
     ],
     "language": "python",
     "metadata": {
      "slideshow": {
       "slide_type": "skip"
      }
     },
     "outputs": [
      {
       "html": [
        "\n",
        "<style>\n",
        "\n",
        "circle {\n",
        "  fill: rgb(31, 119, 180);\n",
        "  fill-opacity: .25;\n",
        "  stroke: rgb(31, 119, 180);\n",
        "  stroke-width: 1px;\n",
        "}\n",
        "\n",
        ".leaf circle {\n",
        "  fill: #ff7f0e;\n",
        "  fill-opacity: 1;\n",
        "}\n",
        "\n",
        "text {\n",
        "  font: 10px sans-serif;\n",
        "}\n",
        "\n",
        "</style>\n"
       ],
       "metadata": {},
       "output_type": "pyout",
       "prompt_number": 26,
       "text": [
        "<IPython.core.display.HTML at 0xa8d22ac>"
       ]
      }
     ],
     "prompt_number": 26
    },
    {
     "cell_type": "code",
     "collapsed": false,
     "input": [
      "Javascript(\"\"\"\n",
      "\n",
      "// This unhides the output area\n",
      "container.show();\n",
      "\n",
      "// element is the jQuery element we will append to\n",
      "var e = element.get(0);\n",
      "    \n",
      "var diameter = 600,\n",
      "    format = d3.format(\",d\");\n",
      "\n",
      "var pack = d3.layout.pack()\n",
      "    .size([diameter - 4, diameter - 4])\n",
      "    .value(function(d) { return d.size; });\n",
      "\n",
      "var svg = d3.select(e).append(\"svg\")\n",
      "    .attr(\"width\", diameter)\n",
      "    .attr(\"height\", diameter)\n",
      "  .append(\"g\")\n",
      "    .attr(\"transform\", \"translate(2,2)\");\n",
      "\n",
      "d3.json(\"/files/flare.json\", function(error, root) {\n",
      "  var node = svg.datum(root).selectAll(\".node\")\n",
      "      .data(pack.nodes)\n",
      "    .enter().append(\"g\")\n",
      "      .attr(\"class\", function(d) { return d.children ? \"node\" : \"leaf node\"; })\n",
      "      .attr(\"transform\", function(d) { return \"translate(\" + d.x + \",\" + d.y + \")\"; });\n",
      "\n",
      "  node.append(\"title\")\n",
      "      .text(function(d) { return d.name + (d.children ? \"\" : \": \" + format(d.size)); });\n",
      "\n",
      "  node.append(\"circle\")\n",
      "      .attr(\"r\", function(d) { return d.r; });\n",
      "\n",
      "  node.filter(function(d) { return !d.children; }).append(\"text\")\n",
      "      .attr(\"dy\", \".3em\")\n",
      "      .style(\"text-anchor\", \"middle\")\n",
      "      .text(function(d) { return d.name.substring(0, d.r / 3); });\n",
      "});\n",
      "\n",
      "d3.select(self.frameElement).style(\"height\", diameter + \"px\");\n",
      "\"\"\")"
     ],
     "language": "python",
     "metadata": {
      "slideshow": {
       "slide_type": "skip"
      }
     },
     "outputs": [
      {
       "javascript": [
        "\n",
        "\n",
        "// This unhides the output area\n",
        "container.show();\n",
        "\n",
        "// element is the jQuery element we will append to\n",
        "var e = element.get(0);\n",
        "    \n",
        "var diameter = 600,\n",
        "    format = d3.format(\",d\");\n",
        "\n",
        "var pack = d3.layout.pack()\n",
        "    .size([diameter - 4, diameter - 4])\n",
        "    .value(function(d) { return d.size; });\n",
        "\n",
        "var svg = d3.select(e).append(\"svg\")\n",
        "    .attr(\"width\", diameter)\n",
        "    .attr(\"height\", diameter)\n",
        "  .append(\"g\")\n",
        "    .attr(\"transform\", \"translate(2,2)\");\n",
        "\n",
        "d3.json(\"/files/flare.json\", function(error, root) {\n",
        "  var node = svg.datum(root).selectAll(\".node\")\n",
        "      .data(pack.nodes)\n",
        "    .enter().append(\"g\")\n",
        "      .attr(\"class\", function(d) { return d.children ? \"node\" : \"leaf node\"; })\n",
        "      .attr(\"transform\", function(d) { return \"translate(\" + d.x + \",\" + d.y + \")\"; });\n",
        "\n",
        "  node.append(\"title\")\n",
        "      .text(function(d) { return d.name + (d.children ? \"\" : \": \" + format(d.size)); });\n",
        "\n",
        "  node.append(\"circle\")\n",
        "      .attr(\"r\", function(d) { return d.r; });\n",
        "\n",
        "  node.filter(function(d) { return !d.children; }).append(\"text\")\n",
        "      .attr(\"dy\", \".3em\")\n",
        "      .style(\"text-anchor\", \"middle\")\n",
        "      .text(function(d) { return d.name.substring(0, d.r / 3); });\n",
        "});\n",
        "\n",
        "d3.select(self.frameElement).style(\"height\", diameter + \"px\");\n"
       ],
       "metadata": {},
       "output_type": "pyout",
       "prompt_number": 27,
       "text": [
        "<IPython.core.display.Javascript at 0xa8d2aec>"
       ]
      }
     ],
     "prompt_number": 27
    },
    {
     "cell_type": "markdown",
     "metadata": {
      "slideshow": {
       "slide_type": "slide"
      }
     },
     "source": [
      "## Local Files\n",
      "\n",
      "The above examples embed images and video from the notebook filesystem in the output\n",
      "areas of code cells.  It is also possible to request these files directly in markdown cells\n",
      "if they reside in the notebook directory via relative urls prefixed with `files/`:\n",
      "\n",
      "    files/[subdirectory/]<filename>"
     ]
    },
    {
     "cell_type": "markdown",
     "metadata": {
      "slideshow": {
       "slide_type": "skip"
      }
     },
     "source": [
      "For example, in the example notebook folder, we have the Python logo, addressed as:\n",
      "\n",
      "    <img src=\"/files/python-logo.svg\" />\n",
      "\n",
      "<img src=\"/files/python-logo.svg\" />\n",
      "\n",
      "and a video with the HTML5 video tag:\n",
      "\n",
      "    <video controls src=\"files/animation.m4v\" />\n",
      "\n",
      "<video controls src=\"/files/animation.m4v\" />\n",
      "\n",
      "These do not embed the data into the notebook file,\n",
      "and require that the files exist when you are viewing the notebook.\n",
      "\n",
      "### Security of local files\n",
      "\n",
      "Note that this means that the IPython notebook server also acts as a generic file server\n",
      "for files inside the same tree as your notebooks.  Access is not granted outside the\n",
      "notebook folder so you have strict control over what files are visible, but for this\n",
      "reason it is highly recommended that you do not run the notebook server with a notebook\n",
      "directory at a high level in your filesystem (e.g. your home directory).\n",
      "\n",
      "When you run the notebook in a password-protected manner, local file access is restricted\n",
      "to authenticated users unless read-only views are active."
     ]
    },
    {
     "cell_type": "markdown",
     "metadata": {
      "slideshow": {
       "slide_type": "subslide"
      }
     },
     "source": [
      "## Linking to files and directories for viewing in the browser\n",
      "\n",
      "It is also possible to link directly to files or directories so they can be opened in the browser. This is especially convenient if you're interacting with a tool within IPython that generates HTML pages, and you'd like to easily be able to open those in a new browser window. Alternatively, if your IPython notebook server is on a remote system, creating links provides an easy way to download any files that get generated.\n",
      "\n",
      "As we saw above, there are a bunch of `.ipynb` files in our current directory."
     ]
    },
    {
     "cell_type": "code",
     "collapsed": false,
     "input": [
      "ls"
     ],
     "language": "python",
     "metadata": {},
     "outputs": [
      {
       "output_type": "stream",
       "stream": "stdout",
       "text": [
        "COPYING.txt                                      \u001b[0m\u001b[01;35mpython-logo.svg\u001b[0m\r\n",
        "\u001b[01;35mdamian.png\u001b[0m                                       README.rst\r\n",
        "\u001b[01;35mfernando.png\u001b[0m                                     \u001b[01;34mreveal.js\u001b[0m/\r\n",
        "flare.json                                       \u001b[01;35mreveal.png\u001b[0m\r\n",
        "\u001b[01;34mIPython-powered_Slideshow_Reveal-ed_files\u001b[0m/       reveal_preview.py\r\n",
        "IPython-powered_Slideshow_Reveal-ed.ipynb        \u001b[01;35mSin nombre.xcf\u001b[0m\r\n",
        "IPython-powered_Slideshow_Reveal-ed.reveal.html  soundcloud.py\r\n",
        "\u001b[01;35mlogo.png\u001b[0m                                         \u001b[01;35mui1.png\u001b[0m\r\n",
        "\u001b[01;34mnbconvert\u001b[0m/                                       \u001b[01;35mui2.png\u001b[0m\r\n",
        "\u001b[01;34mnbconvert1\u001b[0m/                                      \u001b[01;35mui.png\u001b[0m\r\n",
        "\u001b[01;32mnbconvert.py\u001b[0m*                                    \u001b[01;35mwes.png\u001b[0m\r\n"
       ]
      }
     ],
     "prompt_number": 28
    },
    {
     "cell_type": "markdown",
     "metadata": {
      "slideshow": {
       "slide_type": "subslide"
      }
     },
     "source": [
      "If we want to create a link to one of them, we can call use the `FileLink` object."
     ]
    },
    {
     "cell_type": "code",
     "collapsed": false,
     "input": [
      "from IPython.display import FileLink\n",
      "FileLink('IPython-powered_Slideshow_Reveal-ed.ipynb')"
     ],
     "language": "python",
     "metadata": {},
     "outputs": [
      {
       "html": [
        "<a href='files/IPython-powered_Slideshow_Reveal-ed.ipynb' target='_blank'>IPython-powered_Slideshow_Reveal-ed.ipynb</a><br>"
       ],
       "metadata": {},
       "output_type": "pyout",
       "prompt_number": 29,
       "text": [
        "/home/damian/Desarrollos/To_PR/CONTRIBUTING/nbconvert_folder/uptodate/nbconvert/IPython-powered_Slideshow_Reveal-ed.ipynb"
       ]
      }
     ],
     "prompt_number": 29
    },
    {
     "cell_type": "markdown",
     "metadata": {
      "slideshow": {
       "slide_type": "subslide"
      }
     },
     "source": [
      "Alternatively, if we want to link to all of them, we can use the `FileLinks` object, passing `'.'` to indicate that we want links generated for the current working directory. Note that if there were other directories under the current directory, `FileLinks` would work in a recursive manner creating links to files in all sub-directories as well."
     ]
    },
    {
     "cell_type": "code",
     "collapsed": false,
     "input": [
      "from IPython.display import FileLinks\n",
      "FileLinks('.')"
     ],
     "language": "python",
     "metadata": {},
     "outputs": [
      {
       "html": [
        "./<br>\n",
        "&nbsp;&nbsp;<a href='files/./reveal.png' target='_blank'>reveal.png</a><br>\n",
        "&nbsp;&nbsp;<a href='files/./IPython-powered_Slideshow_Reveal-ed.ipynb' target='_blank'>IPython-powered_Slideshow_Reveal-ed.ipynb</a><br>\n",
        "&nbsp;&nbsp;<a href='files/./ui2.png' target='_blank'>ui2.png</a><br>\n",
        "&nbsp;&nbsp;<a href='files/./.travis.yml' target='_blank'>.travis.yml</a><br>\n",
        "&nbsp;&nbsp;<a href='files/./damian.png' target='_blank'>damian.png</a><br>\n",
        "&nbsp;&nbsp;<a href='files/./README.rst' target='_blank'>README.rst</a><br>\n",
        "&nbsp;&nbsp;<a href='files/./COPYING.txt' target='_blank'>COPYING.txt</a><br>\n",
        "&nbsp;&nbsp;<a href='files/./reveal_preview.py' target='_blank'>reveal_preview.py</a><br>\n",
        "&nbsp;&nbsp;<a href='files/./soundcloud.py' target='_blank'>soundcloud.py</a><br>\n",
        "&nbsp;&nbsp;<a href='files/./python-logo.svg' target='_blank'>python-logo.svg</a><br>\n",
        "&nbsp;&nbsp;<a href='files/./.gitignore' target='_blank'>.gitignore</a><br>\n",
        "&nbsp;&nbsp;<a href='files/./flare.json' target='_blank'>flare.json</a><br>\n",
        "&nbsp;&nbsp;<a href='files/./nbconvert.py' target='_blank'>nbconvert.py</a><br>\n",
        "&nbsp;&nbsp;<a href='files/./fernando.png' target='_blank'>fernando.png</a><br>\n",
        "&nbsp;&nbsp;<a href='files/./Sin nombre.xcf' target='_blank'>Sin nombre.xcf</a><br>\n",
        "&nbsp;&nbsp;<a href='files/./.gitmodules' target='_blank'>.gitmodules</a><br>\n",
        "&nbsp;&nbsp;<a href='files/./ui1.png' target='_blank'>ui1.png</a><br>\n",
        "&nbsp;&nbsp;<a href='files/./logo.png' target='_blank'>logo.png</a><br>\n",
        "&nbsp;&nbsp;<a href='files/./wes.png' target='_blank'>wes.png</a><br>\n",
        "&nbsp;&nbsp;<a href='files/./ui.png' target='_blank'>ui.png</a><br>\n",
        "&nbsp;&nbsp;<a href='files/./IPython-powered_Slideshow_Reveal-ed.reveal.html' target='_blank'>IPython-powered_Slideshow_Reveal-ed.reveal.html</a><br>\n",
        "./.git/<br>\n",
        "&nbsp;&nbsp;<a href='files/./.git/HEAD' target='_blank'>HEAD</a><br>\n",
        "&nbsp;&nbsp;<a href='files/./.git/description' target='_blank'>description</a><br>\n",
        "&nbsp;&nbsp;<a href='files/./.git/config' target='_blank'>config</a><br>\n",
        "&nbsp;&nbsp;<a href='files/./.git/index' target='_blank'>index</a><br>\n",
        "&nbsp;&nbsp;<a href='files/./.git/packed-refs' target='_blank'>packed-refs</a><br>\n",
        "./.git/hooks/<br>\n",
        "&nbsp;&nbsp;<a href='files/./.git/hooks/prepare-commit-msg.sample' target='_blank'>prepare-commit-msg.sample</a><br>\n",
        "&nbsp;&nbsp;<a href='files/./.git/hooks/post-update.sample' target='_blank'>post-update.sample</a><br>\n",
        "&nbsp;&nbsp;<a href='files/./.git/hooks/update.sample' target='_blank'>update.sample</a><br>\n",
        "&nbsp;&nbsp;<a href='files/./.git/hooks/pre-applypatch.sample' target='_blank'>pre-applypatch.sample</a><br>\n",
        "&nbsp;&nbsp;<a href='files/./.git/hooks/applypatch-msg.sample' target='_blank'>applypatch-msg.sample</a><br>\n",
        "&nbsp;&nbsp;<a href='files/./.git/hooks/pre-commit.sample' target='_blank'>pre-commit.sample</a><br>\n",
        "&nbsp;&nbsp;<a href='files/./.git/hooks/pre-rebase.sample' target='_blank'>pre-rebase.sample</a><br>\n",
        "&nbsp;&nbsp;<a href='files/./.git/hooks/commit-msg.sample' target='_blank'>commit-msg.sample</a><br>\n",
        "./.git/info/<br>\n",
        "&nbsp;&nbsp;<a href='files/./.git/info/exclude' target='_blank'>exclude</a><br>\n",
        "./.git/logs/<br>\n",
        "&nbsp;&nbsp;<a href='files/./.git/logs/HEAD' target='_blank'>HEAD</a><br>\n",
        "./.git/logs/refs/heads/<br>\n",
        "&nbsp;&nbsp;<a href='files/./.git/logs/refs/heads/master' target='_blank'>master</a><br>\n",
        "./.git/objects/pack/<br>\n",
        "&nbsp;&nbsp;<a href='files/./.git/objects/pack/pack-f2ce4ffb071a740a61ad5b575031c5c0b7721f98.idx' target='_blank'>pack-f2ce4ffb071a740a61ad5b575031c5c0b7721f98.idx</a><br>\n",
        "&nbsp;&nbsp;<a href='files/./.git/objects/pack/pack-f2ce4ffb071a740a61ad5b575031c5c0b7721f98.pack' target='_blank'>pack-f2ce4ffb071a740a61ad5b575031c5c0b7721f98.pack</a><br>\n",
        "./.git/refs/heads/<br>\n",
        "&nbsp;&nbsp;<a href='files/./.git/refs/heads/master' target='_blank'>master</a><br>\n",
        "./.git/refs/remotes/origin/<br>\n",
        "&nbsp;&nbsp;<a href='files/./.git/refs/remotes/origin/HEAD' target='_blank'>HEAD</a><br>\n",
        "./.ipynb_checkpoints/<br>\n",
        "&nbsp;&nbsp;<a href='files/./.ipynb_checkpoints/IPython-powered_Slideshow_Reveal-ed-checkpoint.ipynb' target='_blank'>IPython-powered_Slideshow_Reveal-ed-checkpoint.ipynb</a><br>\n",
        "./nbconvert/<br>\n",
        "&nbsp;&nbsp;<a href='files/./nbconvert/__init__.py' target='_blank'>__init__.py</a><br>\n",
        "&nbsp;&nbsp;<a href='files/./nbconvert/__init__.pyc' target='_blank'>__init__.pyc</a><br>\n",
        "./nbconvert/exporters/<br>\n",
        "&nbsp;&nbsp;<a href='files/./nbconvert/exporters/python_armor.pyc' target='_blank'>python_armor.pyc</a><br>\n",
        "&nbsp;&nbsp;<a href='files/./nbconvert/exporters/export.pyc' target='_blank'>export.pyc</a><br>\n",
        "&nbsp;&nbsp;<a href='files/./nbconvert/exporters/__init__.py' target='_blank'>__init__.py</a><br>\n",
        "&nbsp;&nbsp;<a href='files/./nbconvert/exporters/export.py' target='_blank'>export.py</a><br>\n",
        "&nbsp;&nbsp;<a href='files/./nbconvert/exporters/reveal.pyc' target='_blank'>reveal.pyc</a><br>\n",
        "&nbsp;&nbsp;<a href='files/./nbconvert/exporters/sphinx_manual.pyc' target='_blank'>sphinx_manual.pyc</a><br>\n",
        "&nbsp;&nbsp;<a href='files/./nbconvert/exporters/sphinx_howto.py' target='_blank'>sphinx_howto.py</a><br>\n",
        "&nbsp;&nbsp;<a href='files/./nbconvert/exporters/basichtml.py' target='_blank'>basichtml.py</a><br>\n",
        "&nbsp;&nbsp;<a href='files/./nbconvert/exporters/python.py' target='_blank'>python.py</a><br>\n",
        "&nbsp;&nbsp;<a href='files/./nbconvert/exporters/python_armor.py' target='_blank'>python_armor.py</a><br>\n",
        "&nbsp;&nbsp;<a href='files/./nbconvert/exporters/markdown.pyc' target='_blank'>markdown.pyc</a><br>\n",
        "&nbsp;&nbsp;<a href='files/./nbconvert/exporters/fullhtml.pyc' target='_blank'>fullhtml.pyc</a><br>\n",
        "&nbsp;&nbsp;<a href='files/./nbconvert/exporters/fullhtml.py' target='_blank'>fullhtml.py</a><br>\n",
        "&nbsp;&nbsp;<a href='files/./nbconvert/exporters/rst.pyc' target='_blank'>rst.pyc</a><br>\n",
        "&nbsp;&nbsp;<a href='files/./nbconvert/exporters/python.pyc' target='_blank'>python.pyc</a><br>\n",
        "&nbsp;&nbsp;<a href='files/./nbconvert/exporters/sphinx_manual.py' target='_blank'>sphinx_manual.py</a><br>\n",
        "&nbsp;&nbsp;<a href='files/./nbconvert/exporters/exporter.pyc' target='_blank'>exporter.pyc</a><br>\n",
        "&nbsp;&nbsp;<a href='files/./nbconvert/exporters/latex.py' target='_blank'>latex.py</a><br>\n",
        "&nbsp;&nbsp;<a href='files/./nbconvert/exporters/exporter.py' target='_blank'>exporter.py</a><br>\n",
        "&nbsp;&nbsp;<a href='files/./nbconvert/exporters/reveal.py' target='_blank'>reveal.py</a><br>\n",
        "&nbsp;&nbsp;<a href='files/./nbconvert/exporters/basichtml.pyc' target='_blank'>basichtml.pyc</a><br>\n",
        "&nbsp;&nbsp;<a href='files/./nbconvert/exporters/markdown.py' target='_blank'>markdown.py</a><br>\n",
        "&nbsp;&nbsp;<a href='files/./nbconvert/exporters/latex.pyc' target='_blank'>latex.pyc</a><br>\n",
        "&nbsp;&nbsp;<a href='files/./nbconvert/exporters/sphinx_howto.pyc' target='_blank'>sphinx_howto.pyc</a><br>\n",
        "&nbsp;&nbsp;<a href='files/./nbconvert/exporters/__init__.pyc' target='_blank'>__init__.pyc</a><br>\n",
        "&nbsp;&nbsp;<a href='files/./nbconvert/exporters/rst.py' target='_blank'>rst.py</a><br>\n",
        "./nbconvert/filters/<br>\n",
        "&nbsp;&nbsp;<a href='files/./nbconvert/filters/strings.py' target='_blank'>strings.py</a><br>\n",
        "&nbsp;&nbsp;<a href='files/./nbconvert/filters/__init__.py' target='_blank'>__init__.py</a><br>\n",
        "&nbsp;&nbsp;<a href='files/./nbconvert/filters/highlight.py' target='_blank'>highlight.py</a><br>\n",
        "&nbsp;&nbsp;<a href='files/./nbconvert/filters/datatypefilter.pyc' target='_blank'>datatypefilter.pyc</a><br>\n",
        "&nbsp;&nbsp;<a href='files/./nbconvert/filters/strings.pyc' target='_blank'>strings.pyc</a><br>\n",
        "&nbsp;&nbsp;<a href='files/./nbconvert/filters/ansi.pyc' target='_blank'>ansi.pyc</a><br>\n",
        "&nbsp;&nbsp;<a href='files/./nbconvert/filters/ansi.py' target='_blank'>ansi.py</a><br>\n",
        "&nbsp;&nbsp;<a href='files/./nbconvert/filters/markdown.pyc' target='_blank'>markdown.pyc</a><br>\n",
        "&nbsp;&nbsp;<a href='files/./nbconvert/filters/datatypefilter.py' target='_blank'>datatypefilter.py</a><br>\n",
        "&nbsp;&nbsp;<a href='files/./nbconvert/filters/highlight.pyc' target='_blank'>highlight.pyc</a><br>\n",
        "&nbsp;&nbsp;<a href='files/./nbconvert/filters/latex.py' target='_blank'>latex.py</a><br>\n",
        "&nbsp;&nbsp;<a href='files/./nbconvert/filters/markdown.py' target='_blank'>markdown.py</a><br>\n",
        "&nbsp;&nbsp;<a href='files/./nbconvert/filters/latex.pyc' target='_blank'>latex.pyc</a><br>\n",
        "&nbsp;&nbsp;<a href='files/./nbconvert/filters/__init__.pyc' target='_blank'>__init__.pyc</a><br>\n",
        "./nbconvert/templates/<br>\n",
        "&nbsp;&nbsp;<a href='files/./nbconvert/templates/basichtml.tpl' target='_blank'>basichtml.tpl</a><br>\n",
        "&nbsp;&nbsp;<a href='files/./nbconvert/templates/subslides.tpl' target='_blank'>subslides.tpl</a><br>\n",
        "&nbsp;&nbsp;<a href='files/./nbconvert/templates/python.tpl' target='_blank'>python.tpl</a><br>\n",
        "&nbsp;&nbsp;<a href='files/./nbconvert/templates/slides.tpl' target='_blank'>slides.tpl</a><br>\n",
        "&nbsp;&nbsp;<a href='files/./nbconvert/templates/python_armor.tpl' target='_blank'>python_armor.tpl</a><br>\n",
        "&nbsp;&nbsp;<a href='files/./nbconvert/templates/rst.tpl' target='_blank'>rst.tpl</a><br>\n",
        "&nbsp;&nbsp;<a href='files/./nbconvert/templates/markdown.tpl' target='_blank'>markdown.tpl</a><br>\n",
        "&nbsp;&nbsp;<a href='files/./nbconvert/templates/reveal_cells.tpl' target='_blank'>reveal_cells.tpl</a><br>\n",
        "&nbsp;&nbsp;<a href='files/./nbconvert/templates/fullhtml.tpl' target='_blank'>fullhtml.tpl</a><br>\n",
        "&nbsp;&nbsp;<a href='files/./nbconvert/templates/align_reveal_cells.tpl' target='_blank'>align_reveal_cells.tpl</a><br>\n",
        "&nbsp;&nbsp;<a href='files/./nbconvert/templates/reveal.tpl' target='_blank'>reveal.tpl</a><br>\n",
        "./nbconvert/templates/latex/<br>\n",
        "&nbsp;&nbsp;<a href='files/./nbconvert/templates/latex/sphinx_howto.tplx' target='_blank'>sphinx_howto.tplx</a><br>\n",
        "&nbsp;&nbsp;<a href='files/./nbconvert/templates/latex/sphinx_base.tplx' target='_blank'>sphinx_base.tplx</a><br>\n",
        "&nbsp;&nbsp;<a href='files/./nbconvert/templates/latex/sphinx_manual.tplx' target='_blank'>sphinx_manual.tplx</a><br>\n",
        "&nbsp;&nbsp;<a href='files/./nbconvert/templates/latex/base.tplx' target='_blank'>base.tplx</a><br>\n",
        "./nbconvert/templates/latex/skeleton/<br>\n",
        "&nbsp;&nbsp;<a href='files/./nbconvert/templates/latex/skeleton/null.tplx' target='_blank'>null.tplx</a><br>\n",
        "&nbsp;&nbsp;<a href='files/./nbconvert/templates/latex/skeleton/display_priority.tplx' target='_blank'>display_priority.tplx</a><br>\n",
        "./nbconvert/templates/skeleton/<br>\n",
        "&nbsp;&nbsp;<a href='files/./nbconvert/templates/skeleton/null.tpl' target='_blank'>null.tpl</a><br>\n",
        "&nbsp;&nbsp;<a href='files/./nbconvert/templates/skeleton/README.md' target='_blank'>README.md</a><br>\n",
        "&nbsp;&nbsp;<a href='files/./nbconvert/templates/skeleton/display_priority.tpl' target='_blank'>display_priority.tpl</a><br>\n",
        "&nbsp;&nbsp;<a href='files/./nbconvert/templates/skeleton/Makefile' target='_blank'>Makefile</a><br>\n",
        "./nbconvert/transformers/<br>\n",
        "&nbsp;&nbsp;<a href='files/./nbconvert/transformers/sphinx.py' target='_blank'>sphinx.py</a><br>\n",
        "&nbsp;&nbsp;<a href='files/./nbconvert/transformers/activatable.pyc' target='_blank'>activatable.pyc</a><br>\n",
        "&nbsp;&nbsp;<a href='files/./nbconvert/transformers/__init__.py' target='_blank'>__init__.py</a><br>\n",
        "&nbsp;&nbsp;<a href='files/./nbconvert/transformers/csshtmlheader.py' target='_blank'>csshtmlheader.py</a><br>\n",
        "&nbsp;&nbsp;<a href='files/./nbconvert/transformers/revealhelp.py' target='_blank'>revealhelp.py</a><br>\n",
        "&nbsp;&nbsp;<a href='files/./nbconvert/transformers/extractfigure.py' target='_blank'>extractfigure.py</a><br>\n",
        "&nbsp;&nbsp;<a href='files/./nbconvert/transformers/coalescestreams.py' target='_blank'>coalescestreams.py</a><br>\n",
        "&nbsp;&nbsp;<a href='files/./nbconvert/transformers/base.pyc' target='_blank'>base.pyc</a><br>\n",
        "&nbsp;&nbsp;<a href='files/./nbconvert/transformers/coalescestreams.pyc' target='_blank'>coalescestreams.pyc</a><br>\n",
        "&nbsp;&nbsp;<a href='files/./nbconvert/transformers/extractfigure.pyc' target='_blank'>extractfigure.pyc</a><br>\n",
        "&nbsp;&nbsp;<a href='files/./nbconvert/transformers/latex.py' target='_blank'>latex.py</a><br>\n",
        "&nbsp;&nbsp;<a href='files/./nbconvert/transformers/activatable.py' target='_blank'>activatable.py</a><br>\n",
        "&nbsp;&nbsp;<a href='files/./nbconvert/transformers/base.py' target='_blank'>base.py</a><br>\n",
        "&nbsp;&nbsp;<a href='files/./nbconvert/transformers/sphinx.pyc' target='_blank'>sphinx.pyc</a><br>\n",
        "&nbsp;&nbsp;<a href='files/./nbconvert/transformers/revealhelp.pyc' target='_blank'>revealhelp.pyc</a><br>\n",
        "&nbsp;&nbsp;<a href='files/./nbconvert/transformers/csshtmlheader.pyc' target='_blank'>csshtmlheader.pyc</a><br>\n",
        "&nbsp;&nbsp;<a href='files/./nbconvert/transformers/latex.pyc' target='_blank'>latex.pyc</a><br>\n",
        "&nbsp;&nbsp;<a href='files/./nbconvert/transformers/__init__.pyc' target='_blank'>__init__.pyc</a><br>\n",
        "./nbconvert/utils/<br>\n",
        "&nbsp;&nbsp;<a href='files/./nbconvert/utils/lexers.pyc' target='_blank'>lexers.pyc</a><br>\n",
        "&nbsp;&nbsp;<a href='files/./nbconvert/utils/__init__.py' target='_blank'>__init__.py</a><br>\n",
        "&nbsp;&nbsp;<a href='files/./nbconvert/utils/config.pyc' target='_blank'>config.pyc</a><br>\n",
        "&nbsp;&nbsp;<a href='files/./nbconvert/utils/exceptions.py' target='_blank'>exceptions.py</a><br>\n",
        "&nbsp;&nbsp;<a href='files/./nbconvert/utils/console.pyc' target='_blank'>console.pyc</a><br>\n",
        "&nbsp;&nbsp;<a href='files/./nbconvert/utils/lexers.py' target='_blank'>lexers.py</a><br>\n",
        "&nbsp;&nbsp;<a href='files/./nbconvert/utils/__init__.pyc' target='_blank'>__init__.pyc</a><br>\n",
        "&nbsp;&nbsp;<a href='files/./nbconvert/utils/config.py' target='_blank'>config.py</a><br>\n",
        "&nbsp;&nbsp;<a href='files/./nbconvert/utils/console.py' target='_blank'>console.py</a><br>\n",
        "./nbconvert1/<br>\n",
        "&nbsp;&nbsp;<a href='files/./nbconvert1/nbstripout.py' target='_blank'>nbstripout.py</a><br>\n",
        "&nbsp;&nbsp;<a href='files/./nbconvert1/rst2ipynb.py' target='_blank'>rst2ipynb.py</a><br>\n",
        "&nbsp;&nbsp;<a href='files/./nbconvert1/requirements.txt' target='_blank'>requirements.txt</a><br>\n",
        "&nbsp;&nbsp;<a href='files/./nbconvert1/custom_converter.py' target='_blank'>custom_converter.py</a><br>\n",
        "&nbsp;&nbsp;<a href='files/./nbconvert1/nbconvert.py' target='_blank'>nbconvert.py</a><br>\n",
        "&nbsp;&nbsp;<a href='files/./nbconvert1/work_flow.txt' target='_blank'>work_flow.txt</a><br>\n",
        "&nbsp;&nbsp;<a href='files/./nbconvert1/preamble.tex' target='_blank'>preamble.tex</a><br>\n",
        "&nbsp;&nbsp;<a href='files/./nbconvert1/notebook_sphinxext.py' target='_blank'>notebook_sphinxext.py</a><br>\n",
        "&nbsp;&nbsp;<a href='files/./nbconvert1/dollarmath.py' target='_blank'>dollarmath.py</a><br>\n",
        "./nbconvert1/converters/<br>\n",
        "&nbsp;&nbsp;<a href='files/./nbconvert1/converters/__init__.py' target='_blank'>__init__.py</a><br>\n",
        "&nbsp;&nbsp;<a href='files/./nbconvert1/converters/utils.py' target='_blank'>utils.py</a><br>\n",
        "&nbsp;&nbsp;<a href='files/./nbconvert1/converters/pdf.py' target='_blank'>pdf.py</a><br>\n",
        "&nbsp;&nbsp;<a href='files/./nbconvert1/converters/python.py' target='_blank'>python.py</a><br>\n",
        "&nbsp;&nbsp;<a href='files/./nbconvert1/converters/bloggerhtml.py' target='_blank'>bloggerhtml.py</a><br>\n",
        "&nbsp;&nbsp;<a href='files/./nbconvert1/converters/latex.py' target='_blank'>latex.py</a><br>\n",
        "&nbsp;&nbsp;<a href='files/./nbconvert1/converters/reveal.py' target='_blank'>reveal.py</a><br>\n",
        "&nbsp;&nbsp;<a href='files/./nbconvert1/converters/base.py' target='_blank'>base.py</a><br>\n",
        "&nbsp;&nbsp;<a href='files/./nbconvert1/converters/html.py' target='_blank'>html.py</a><br>\n",
        "&nbsp;&nbsp;<a href='files/./nbconvert1/converters/markdown.py' target='_blank'>markdown.py</a><br>\n",
        "&nbsp;&nbsp;<a href='files/./nbconvert1/converters/rst.py' target='_blank'>rst.py</a><br>\n",
        "&nbsp;&nbsp;<a href='files/./nbconvert1/converters/notebook.py' target='_blank'>notebook.py</a><br>\n",
        "./nbconvert1/css/<br>\n",
        "&nbsp;&nbsp;<a href='files/./nbconvert1/css/static_html.css' target='_blank'>static_html.css</a><br>\n",
        "&nbsp;&nbsp;<a href='files/./nbconvert1/css/reveal_html.css' target='_blank'>reveal_html.css</a><br>\n",
        "./nbconvert1/js/<br>\n",
        "&nbsp;&nbsp;<a href='files/./nbconvert1/js/initmathjax.js' target='_blank'>initmathjax.js</a><br>\n",
        "&nbsp;&nbsp;<a href='files/./nbconvert1/js/mathjax-onload.js' target='_blank'>mathjax-onload.js</a><br>\n",
        "./nbconvert1/rst2ipynblib/<br>\n",
        "&nbsp;&nbsp;<a href='files/./nbconvert1/rst2ipynblib/__init__.py' target='_blank'>__init__.py</a><br>\n",
        "./nbconvert1/tests/<br>\n",
        "&nbsp;&nbsp;<a href='files/./nbconvert1/tests/test_transformers.py' target='_blank'>test_transformers.py</a><br>\n",
        "&nbsp;&nbsp;<a href='files/./nbconvert1/tests/test_rst2ipynb.py' target='_blank'>test_rst2ipynb.py</a><br>\n",
        "&nbsp;&nbsp;<a href='files/./nbconvert1/tests/test_simple.py' target='_blank'>test_simple.py</a><br>\n",
        "&nbsp;&nbsp;<a href='files/./nbconvert1/tests/test_display.ipynb' target='_blank'>test_display.ipynb</a><br>\n",
        "&nbsp;&nbsp;<a href='files/./nbconvert1/tests/test_misc.py' target='_blank'>test_misc.py</a><br>\n",
        "&nbsp;&nbsp;<a href='files/./nbconvert1/tests/tutorial.ipynb.ref' target='_blank'>tutorial.ipynb.ref</a><br>\n",
        "&nbsp;&nbsp;<a href='files/./nbconvert1/tests/test_nbconverter.py' target='_blank'>test_nbconverter.py</a><br>\n",
        "&nbsp;&nbsp;<a href='files/./nbconvert1/tests/test.ipynb' target='_blank'>test.ipynb</a><br>\n",
        "&nbsp;&nbsp;<a href='files/./nbconvert1/tests/tutorial.rst.ref' target='_blank'>tutorial.rst.ref</a><br>\n",
        "&nbsp;&nbsp;<a href='files/./nbconvert1/tests/test_references.py' target='_blank'>test_references.py</a><br>\n",
        "&nbsp;&nbsp;<a href='files/./nbconvert1/tests/test_templates.py' target='_blank'>test_templates.py</a><br>\n",
        "./nbconvert1/tests/ipynbref/<br>\n",
        "&nbsp;&nbsp;<a href='files/./nbconvert1/tests/ipynbref/XKCD_plots.orig.html' target='_blank'>XKCD_plots.orig.html</a><br>\n",
        "&nbsp;&nbsp;<a href='files/./nbconvert1/tests/ipynbref/reveal.orig.ipynb' target='_blank'>reveal.orig.ipynb</a><br>\n",
        "&nbsp;&nbsp;<a href='files/./nbconvert1/tests/ipynbref/XKCD_plots.orig.ipynb' target='_blank'>XKCD_plots.orig.ipynb</a><br>\n",
        "&nbsp;&nbsp;<a href='files/./nbconvert1/tests/ipynbref/00_notebook_tour_orig.rst' target='_blank'>00_notebook_tour_orig.rst</a><br>\n",
        "&nbsp;&nbsp;<a href='files/./nbconvert1/tests/ipynbref/IntroNumPy.orig.html' target='_blank'>IntroNumPy.orig.html</a><br>\n",
        "&nbsp;&nbsp;<a href='files/./nbconvert1/tests/ipynbref/00_notebook_tour.orig.ipynb' target='_blank'>00_notebook_tour.orig.ipynb</a><br>\n",
        "&nbsp;&nbsp;<a href='files/./nbconvert1/tests/ipynbref/00_notebook_tour.orig.md' target='_blank'>00_notebook_tour.orig.md</a><br>\n",
        "&nbsp;&nbsp;<a href='files/./nbconvert1/tests/ipynbref/XKCD_plots.orig.py' target='_blank'>XKCD_plots.orig.py</a><br>\n",
        "&nbsp;&nbsp;<a href='files/./nbconvert1/tests/ipynbref/IntroNumPy.orig.py' target='_blank'>IntroNumPy.orig.py</a><br>\n",
        "&nbsp;&nbsp;<a href='files/./nbconvert1/tests/ipynbref/IntroNumPy.orig.rst' target='_blank'>IntroNumPy.orig.rst</a><br>\n",
        "&nbsp;&nbsp;<a href='files/./nbconvert1/tests/ipynbref/IntroNumPy.orig.md' target='_blank'>IntroNumPy.orig.md</a><br>\n",
        "&nbsp;&nbsp;<a href='files/./nbconvert1/tests/ipynbref/Gun_Data.orig.html' target='_blank'>Gun_Data.orig.html</a><br>\n",
        "&nbsp;&nbsp;<a href='files/./nbconvert1/tests/ipynbref/data_geeks_team_calendar.orig.rst' target='_blank'>data_geeks_team_calendar.orig.rst</a><br>\n",
        "&nbsp;&nbsp;<a href='files/./nbconvert1/tests/ipynbref/XKCD_plots.orig.tex' target='_blank'>XKCD_plots.orig.tex</a><br>\n",
        "&nbsp;&nbsp;<a href='files/./nbconvert1/tests/ipynbref/Gun_Data.orig.ipynb' target='_blank'>Gun_Data.orig.ipynb</a><br>\n",
        "&nbsp;&nbsp;<a href='files/./nbconvert1/tests/ipynbref/XKCD_plots.orig.md' target='_blank'>XKCD_plots.orig.md</a><br>\n",
        "&nbsp;&nbsp;<a href='files/./nbconvert1/tests/ipynbref/Gun_Data.orig.tex' target='_blank'>Gun_Data.orig.tex</a><br>\n",
        "&nbsp;&nbsp;<a href='files/./nbconvert1/tests/ipynbref/IntroNumPy.orig.ipynb' target='_blank'>IntroNumPy.orig.ipynb</a><br>\n",
        "&nbsp;&nbsp;<a href='files/./nbconvert1/tests/ipynbref/data_geeks_team_calendar.orig.md' target='_blank'>data_geeks_team_calendar.orig.md</a><br>\n",
        "&nbsp;&nbsp;<a href='files/./nbconvert1/tests/ipynbref/Gun_Data.orig.md' target='_blank'>Gun_Data.orig.md</a><br>\n",
        "&nbsp;&nbsp;<a href='files/./nbconvert1/tests/ipynbref/Gun_Data.orig.py' target='_blank'>Gun_Data.orig.py</a><br>\n",
        "&nbsp;&nbsp;<a href='files/./nbconvert1/tests/ipynbref/00_notebook_tour.orig.tex' target='_blank'>00_notebook_tour.orig.tex</a><br>\n",
        "&nbsp;&nbsp;<a href='files/./nbconvert1/tests/ipynbref/00_notebook_tour.orig.html' target='_blank'>00_notebook_tour.orig.html</a><br>\n",
        "&nbsp;&nbsp;<a href='files/./nbconvert1/tests/ipynbref/IntroNumPy.orig.tex' target='_blank'>IntroNumPy.orig.tex</a><br>\n",
        "&nbsp;&nbsp;<a href='files/./nbconvert1/tests/ipynbref/reveal.orig_slides.html' target='_blank'>reveal.orig_slides.html</a><br>\n",
        "&nbsp;&nbsp;<a href='files/./nbconvert1/tests/ipynbref/data_geeks_team_calendar.orig.tex' target='_blank'>data_geeks_team_calendar.orig.tex</a><br>\n",
        "&nbsp;&nbsp;<a href='files/./nbconvert1/tests/ipynbref/data_geeks_team_calendar.orig.ipynb' target='_blank'>data_geeks_team_calendar.orig.ipynb</a><br>\n",
        "&nbsp;&nbsp;<a href='files/./nbconvert1/tests/ipynbref/data_geeks_team_calendar.orig.html' target='_blank'>data_geeks_team_calendar.orig.html</a><br>\n",
        "&nbsp;&nbsp;<a href='files/./nbconvert1/tests/ipynbref/data_geeks_team_calendar.orig.py' target='_blank'>data_geeks_team_calendar.orig.py</a><br>\n",
        "&nbsp;&nbsp;<a href='files/./nbconvert1/tests/ipynbref/00_notebook_tour.orig.py' target='_blank'>00_notebook_tour.orig.py</a><br>\n",
        "./nbconvert1/tests/template_ref/<br>\n",
        "&nbsp;&nbsp;<a href='files/./nbconvert1/tests/template_ref/00_notebook_tour_orig.rst' target='_blank'>00_notebook_tour_orig.rst</a><br>\n",
        "&nbsp;&nbsp;<a href='files/./nbconvert1/tests/template_ref/IntroNumPy_orig.rst' target='_blank'>IntroNumPy_orig.rst</a><br>\n",
        "&nbsp;&nbsp;<a href='files/./nbconvert1/tests/template_ref/IntroNumPy_orig.html' target='_blank'>IntroNumPy_orig.html</a><br>\n",
        "&nbsp;&nbsp;<a href='files/./nbconvert1/tests/template_ref/00_notebook_tour_orig.tex' target='_blank'>00_notebook_tour_orig.tex</a><br>\n",
        "&nbsp;&nbsp;<a href='files/./nbconvert1/tests/template_ref/IntroNumPy_orig.tex' target='_blank'>IntroNumPy_orig.tex</a><br>\n",
        "&nbsp;&nbsp;<a href='files/./nbconvert1/tests/template_ref/00_notebook_tour_orig.html' target='_blank'>00_notebook_tour_orig.html</a><br>\n",
        "./reveal.js/<br>\n",
        "&nbsp;&nbsp;<a href='files/./reveal.js/.travis.yml' target='_blank'>.travis.yml</a><br>\n",
        "&nbsp;&nbsp;<a href='files/./reveal.js/.git' target='_blank'>.git</a><br>\n",
        "&nbsp;&nbsp;<a href='files/./reveal.js/Gruntfile.js' target='_blank'>Gruntfile.js</a><br>\n",
        "&nbsp;&nbsp;<a href='files/./reveal.js/package.json' target='_blank'>package.json</a><br>\n",
        "&nbsp;&nbsp;<a href='files/./reveal.js/README.md' target='_blank'>README.md</a><br>\n",
        "&nbsp;&nbsp;<a href='files/./reveal.js/.gitignore' target='_blank'>.gitignore</a><br>\n",
        "&nbsp;&nbsp;<a href='files/./reveal.js/index.html' target='_blank'>index.html</a><br>\n",
        "&nbsp;&nbsp;<a href='files/./reveal.js/LICENSE' target='_blank'>LICENSE</a><br>\n",
        "./reveal.js/css/<br>\n",
        "&nbsp;&nbsp;<a href='files/./reveal.js/css/reveal.min.css' target='_blank'>reveal.min.css</a><br>\n",
        "&nbsp;&nbsp;<a href='files/./reveal.js/css/reveal.css' target='_blank'>reveal.css</a><br>\n",
        "./reveal.js/css/print/<br>\n",
        "&nbsp;&nbsp;<a href='files/./reveal.js/css/print/pdf.css' target='_blank'>pdf.css</a><br>\n",
        "&nbsp;&nbsp;<a href='files/./reveal.js/css/print/paper.css' target='_blank'>paper.css</a><br>\n",
        "./reveal.js/css/theme/<br>\n",
        "&nbsp;&nbsp;<a href='files/./reveal.js/css/theme/simple.css' target='_blank'>simple.css</a><br>\n",
        "&nbsp;&nbsp;<a href='files/./reveal.js/css/theme/default.css' target='_blank'>default.css</a><br>\n",
        "&nbsp;&nbsp;<a href='files/./reveal.js/css/theme/beige.css' target='_blank'>beige.css</a><br>\n",
        "&nbsp;&nbsp;<a href='files/./reveal.js/css/theme/serif.css' target='_blank'>serif.css</a><br>\n",
        "&nbsp;&nbsp;<a href='files/./reveal.js/css/theme/README.md' target='_blank'>README.md</a><br>\n",
        "&nbsp;&nbsp;<a href='files/./reveal.js/css/theme/moon.css' target='_blank'>moon.css</a><br>\n",
        "&nbsp;&nbsp;<a href='files/./reveal.js/css/theme/night.css' target='_blank'>night.css</a><br>\n",
        "&nbsp;&nbsp;<a href='files/./reveal.js/css/theme/sky.css' target='_blank'>sky.css</a><br>\n",
        "&nbsp;&nbsp;<a href='files/./reveal.js/css/theme/solarized.css' target='_blank'>solarized.css</a><br>\n",
        "./reveal.js/css/theme/source/<br>\n",
        "&nbsp;&nbsp;<a href='files/./reveal.js/css/theme/source/night.scss' target='_blank'>night.scss</a><br>\n",
        "&nbsp;&nbsp;<a href='files/./reveal.js/css/theme/source/beige.scss' target='_blank'>beige.scss</a><br>\n",
        "&nbsp;&nbsp;<a href='files/./reveal.js/css/theme/source/solarized.scss' target='_blank'>solarized.scss</a><br>\n",
        "&nbsp;&nbsp;<a href='files/./reveal.js/css/theme/source/moon.scss' target='_blank'>moon.scss</a><br>\n",
        "&nbsp;&nbsp;<a href='files/./reveal.js/css/theme/source/simple.scss' target='_blank'>simple.scss</a><br>\n",
        "&nbsp;&nbsp;<a href='files/./reveal.js/css/theme/source/sky.scss' target='_blank'>sky.scss</a><br>\n",
        "&nbsp;&nbsp;<a href='files/./reveal.js/css/theme/source/serif.scss' target='_blank'>serif.scss</a><br>\n",
        "&nbsp;&nbsp;<a href='files/./reveal.js/css/theme/source/default.scss' target='_blank'>default.scss</a><br>\n",
        "./reveal.js/css/theme/template/<br>\n",
        "&nbsp;&nbsp;<a href='files/./reveal.js/css/theme/template/settings.scss' target='_blank'>settings.scss</a><br>\n",
        "&nbsp;&nbsp;<a href='files/./reveal.js/css/theme/template/theme.scss' target='_blank'>theme.scss</a><br>\n",
        "&nbsp;&nbsp;<a href='files/./reveal.js/css/theme/template/mixins.scss' target='_blank'>mixins.scss</a><br>\n",
        "./reveal.js/js/<br>\n",
        "&nbsp;&nbsp;<a href='files/./reveal.js/js/reveal.js' target='_blank'>reveal.js</a><br>\n",
        "&nbsp;&nbsp;<a href='files/./reveal.js/js/reveal.min.js' target='_blank'>reveal.min.js</a><br>\n",
        "./reveal.js/lib/css/<br>\n",
        "&nbsp;&nbsp;<a href='files/./reveal.js/lib/css/zenburn.css' target='_blank'>zenburn.css</a><br>\n",
        "./reveal.js/lib/font/<br>\n",
        "&nbsp;&nbsp;<a href='files/./reveal.js/lib/font/league_gothic-webfont.woff' target='_blank'>league_gothic-webfont.woff</a><br>\n",
        "&nbsp;&nbsp;<a href='files/./reveal.js/lib/font/league_gothic-webfont.ttf' target='_blank'>league_gothic-webfont.ttf</a><br>\n",
        "&nbsp;&nbsp;<a href='files/./reveal.js/lib/font/league_gothic-webfont.eot' target='_blank'>league_gothic-webfont.eot</a><br>\n",
        "&nbsp;&nbsp;<a href='files/./reveal.js/lib/font/league_gothic-webfont.svg' target='_blank'>league_gothic-webfont.svg</a><br>\n",
        "&nbsp;&nbsp;<a href='files/./reveal.js/lib/font/league_gothic_license' target='_blank'>league_gothic_license</a><br>\n",
        "./reveal.js/lib/js/<br>\n",
        "&nbsp;&nbsp;<a href='files/./reveal.js/lib/js/classList.js' target='_blank'>classList.js</a><br>\n",
        "&nbsp;&nbsp;<a href='files/./reveal.js/lib/js/head.min.js' target='_blank'>head.min.js</a><br>\n",
        "&nbsp;&nbsp;<a href='files/./reveal.js/lib/js/html5shiv.js' target='_blank'>html5shiv.js</a><br>\n",
        "./reveal.js/plugin/highlight/<br>\n",
        "&nbsp;&nbsp;<a href='files/./reveal.js/plugin/highlight/highlight.js' target='_blank'>highlight.js</a><br>\n",
        "./reveal.js/plugin/markdown/<br>\n",
        "&nbsp;&nbsp;<a href='files/./reveal.js/plugin/markdown/example.md' target='_blank'>example.md</a><br>\n",
        "&nbsp;&nbsp;<a href='files/./reveal.js/plugin/markdown/markdown.js' target='_blank'>markdown.js</a><br>\n",
        "&nbsp;&nbsp;<a href='files/./reveal.js/plugin/markdown/example.html' target='_blank'>example.html</a><br>\n",
        "&nbsp;&nbsp;<a href='files/./reveal.js/plugin/markdown/marked.js' target='_blank'>marked.js</a><br>\n",
        "./reveal.js/plugin/multiplex/<br>\n",
        "&nbsp;&nbsp;<a href='files/./reveal.js/plugin/multiplex/index.js' target='_blank'>index.js</a><br>\n",
        "&nbsp;&nbsp;<a href='files/./reveal.js/plugin/multiplex/master.js' target='_blank'>master.js</a><br>\n",
        "&nbsp;&nbsp;<a href='files/./reveal.js/plugin/multiplex/client.js' target='_blank'>client.js</a><br>\n",
        "./reveal.js/plugin/notes/<br>\n",
        "&nbsp;&nbsp;<a href='files/./reveal.js/plugin/notes/notes.html' target='_blank'>notes.html</a><br>\n",
        "&nbsp;&nbsp;<a href='files/./reveal.js/plugin/notes/notes.js' target='_blank'>notes.js</a><br>\n",
        "./reveal.js/plugin/notes-server/<br>\n",
        "&nbsp;&nbsp;<a href='files/./reveal.js/plugin/notes-server/notes.html' target='_blank'>notes.html</a><br>\n",
        "&nbsp;&nbsp;<a href='files/./reveal.js/plugin/notes-server/index.js' target='_blank'>index.js</a><br>\n",
        "&nbsp;&nbsp;<a href='files/./reveal.js/plugin/notes-server/client.js' target='_blank'>client.js</a><br>\n",
        "./reveal.js/plugin/postmessage/<br>\n",
        "&nbsp;&nbsp;<a href='files/./reveal.js/plugin/postmessage/postmessage.js' target='_blank'>postmessage.js</a><br>\n",
        "&nbsp;&nbsp;<a href='files/./reveal.js/plugin/postmessage/example.html' target='_blank'>example.html</a><br>\n",
        "./reveal.js/plugin/print-pdf/<br>\n",
        "&nbsp;&nbsp;<a href='files/./reveal.js/plugin/print-pdf/print-pdf.js' target='_blank'>print-pdf.js</a><br>\n",
        "./reveal.js/plugin/remotes/<br>\n",
        "&nbsp;&nbsp;<a href='files/./reveal.js/plugin/remotes/remotes.js' target='_blank'>remotes.js</a><br>\n",
        "./reveal.js/plugin/search/<br>\n",
        "&nbsp;&nbsp;<a href='files/./reveal.js/plugin/search/search.js' target='_blank'>search.js</a><br>\n",
        "./reveal.js/plugin/zoom-js/<br>\n",
        "&nbsp;&nbsp;<a href='files/./reveal.js/plugin/zoom-js/zoom.js' target='_blank'>zoom.js</a><br>"
       ],
       "metadata": {},
       "output_type": "pyout",
       "prompt_number": 30,
       "text": [
        "./\n",
        "  reveal.png\n",
        "  IPython-powered_Slideshow_Reveal-ed.ipynb\n",
        "  ui2.png\n",
        "  .travis.yml\n",
        "  damian.png\n",
        "  README.rst\n",
        "  COPYING.txt\n",
        "  reveal_preview.py\n",
        "  soundcloud.py\n",
        "  python-logo.svg\n",
        "  .gitignore\n",
        "  flare.json\n",
        "  nbconvert.py\n",
        "  fernando.png\n",
        "  Sin nombre.xcf\n",
        "  .gitmodules\n",
        "  ui1.png\n",
        "  logo.png\n",
        "  wes.png\n",
        "  ui.png\n",
        "  IPython-powered_Slideshow_Reveal-ed.reveal.html\n",
        "./.git/\n",
        "  HEAD\n",
        "  description\n",
        "  config\n",
        "  index\n",
        "  packed-refs\n",
        "./.git/hooks/\n",
        "  prepare-commit-msg.sample\n",
        "  post-update.sample\n",
        "  update.sample\n",
        "  pre-applypatch.sample\n",
        "  applypatch-msg.sample\n",
        "  pre-commit.sample\n",
        "  pre-rebase.sample\n",
        "  commit-msg.sample\n",
        "./.git/info/\n",
        "  exclude\n",
        "./.git/logs/\n",
        "  HEAD\n",
        "./.git/logs/refs/heads/\n",
        "  master\n",
        "./.git/objects/pack/\n",
        "  pack-f2ce4ffb071a740a61ad5b575031c5c0b7721f98.idx\n",
        "  pack-f2ce4ffb071a740a61ad5b575031c5c0b7721f98.pack\n",
        "./.git/refs/heads/\n",
        "  master\n",
        "./.git/refs/remotes/origin/\n",
        "  HEAD\n",
        "./.ipynb_checkpoints/\n",
        "  IPython-powered_Slideshow_Reveal-ed-checkpoint.ipynb\n",
        "./nbconvert/\n",
        "  __init__.py\n",
        "  __init__.pyc\n",
        "./nbconvert/exporters/\n",
        "  python_armor.pyc\n",
        "  export.pyc\n",
        "  __init__.py\n",
        "  export.py\n",
        "  reveal.pyc\n",
        "  sphinx_manual.pyc\n",
        "  sphinx_howto.py\n",
        "  basichtml.py\n",
        "  python.py\n",
        "  python_armor.py\n",
        "  markdown.pyc\n",
        "  fullhtml.pyc\n",
        "  fullhtml.py\n",
        "  rst.pyc\n",
        "  python.pyc\n",
        "  sphinx_manual.py\n",
        "  exporter.pyc\n",
        "  latex.py\n",
        "  exporter.py\n",
        "  reveal.py\n",
        "  basichtml.pyc\n",
        "  markdown.py\n",
        "  latex.pyc\n",
        "  sphinx_howto.pyc\n",
        "  __init__.pyc\n",
        "  rst.py\n",
        "./nbconvert/filters/\n",
        "  strings.py\n",
        "  __init__.py\n",
        "  highlight.py\n",
        "  datatypefilter.pyc\n",
        "  strings.pyc\n",
        "  ansi.pyc\n",
        "  ansi.py\n",
        "  markdown.pyc\n",
        "  datatypefilter.py\n",
        "  highlight.pyc\n",
        "  latex.py\n",
        "  markdown.py\n",
        "  latex.pyc\n",
        "  __init__.pyc\n",
        "./nbconvert/templates/\n",
        "  basichtml.tpl\n",
        "  subslides.tpl\n",
        "  python.tpl\n",
        "  slides.tpl\n",
        "  python_armor.tpl\n",
        "  rst.tpl\n",
        "  markdown.tpl\n",
        "  reveal_cells.tpl\n",
        "  fullhtml.tpl\n",
        "  align_reveal_cells.tpl\n",
        "  reveal.tpl\n",
        "./nbconvert/templates/latex/\n",
        "  sphinx_howto.tplx\n",
        "  sphinx_base.tplx\n",
        "  sphinx_manual.tplx\n",
        "  base.tplx\n",
        "./nbconvert/templates/latex/skeleton/\n",
        "  null.tplx\n",
        "  display_priority.tplx\n",
        "./nbconvert/templates/skeleton/\n",
        "  null.tpl\n",
        "  README.md\n",
        "  display_priority.tpl\n",
        "  Makefile\n",
        "./nbconvert/transformers/\n",
        "  sphinx.py\n",
        "  activatable.pyc\n",
        "  __init__.py\n",
        "  csshtmlheader.py\n",
        "  revealhelp.py\n",
        "  extractfigure.py\n",
        "  coalescestreams.py\n",
        "  base.pyc\n",
        "  coalescestreams.pyc\n",
        "  extractfigure.pyc\n",
        "  latex.py\n",
        "  activatable.py\n",
        "  base.py\n",
        "  sphinx.pyc\n",
        "  revealhelp.pyc\n",
        "  csshtmlheader.pyc\n",
        "  latex.pyc\n",
        "  __init__.pyc\n",
        "./nbconvert/utils/\n",
        "  lexers.pyc\n",
        "  __init__.py\n",
        "  config.pyc\n",
        "  exceptions.py\n",
        "  console.pyc\n",
        "  lexers.py\n",
        "  __init__.pyc\n",
        "  config.py\n",
        "  console.py\n",
        "./nbconvert1/\n",
        "  nbstripout.py\n",
        "  rst2ipynb.py\n",
        "  requirements.txt\n",
        "  custom_converter.py\n",
        "  nbconvert.py\n",
        "  work_flow.txt\n",
        "  preamble.tex\n",
        "  notebook_sphinxext.py\n",
        "  dollarmath.py\n",
        "./nbconvert1/converters/\n",
        "  __init__.py\n",
        "  utils.py\n",
        "  pdf.py\n",
        "  python.py\n",
        "  bloggerhtml.py\n",
        "  latex.py\n",
        "  reveal.py\n",
        "  base.py\n",
        "  html.py\n",
        "  markdown.py\n",
        "  rst.py\n",
        "  notebook.py\n",
        "./nbconvert1/css/\n",
        "  static_html.css\n",
        "  reveal_html.css\n",
        "./nbconvert1/js/\n",
        "  initmathjax.js\n",
        "  mathjax-onload.js\n",
        "./nbconvert1/rst2ipynblib/\n",
        "  __init__.py\n",
        "./nbconvert1/tests/\n",
        "  test_transformers.py\n",
        "  test_rst2ipynb.py\n",
        "  test_simple.py\n",
        "  test_display.ipynb\n",
        "  test_misc.py\n",
        "  tutorial.ipynb.ref\n",
        "  test_nbconverter.py\n",
        "  test.ipynb\n",
        "  tutorial.rst.ref\n",
        "  test_references.py\n",
        "  test_templates.py\n",
        "./nbconvert1/tests/ipynbref/\n",
        "  XKCD_plots.orig.html\n",
        "  reveal.orig.ipynb\n",
        "  XKCD_plots.orig.ipynb\n",
        "  00_notebook_tour_orig.rst\n",
        "  IntroNumPy.orig.html\n",
        "  00_notebook_tour.orig.ipynb\n",
        "  00_notebook_tour.orig.md\n",
        "  XKCD_plots.orig.py\n",
        "  IntroNumPy.orig.py\n",
        "  IntroNumPy.orig.rst\n",
        "  IntroNumPy.orig.md\n",
        "  Gun_Data.orig.html\n",
        "  data_geeks_team_calendar.orig.rst\n",
        "  XKCD_plots.orig.tex\n",
        "  Gun_Data.orig.ipynb\n",
        "  XKCD_plots.orig.md\n",
        "  Gun_Data.orig.tex\n",
        "  IntroNumPy.orig.ipynb\n",
        "  data_geeks_team_calendar.orig.md\n",
        "  Gun_Data.orig.md\n",
        "  Gun_Data.orig.py\n",
        "  00_notebook_tour.orig.tex\n",
        "  00_notebook_tour.orig.html\n",
        "  IntroNumPy.orig.tex\n",
        "  reveal.orig_slides.html\n",
        "  data_geeks_team_calendar.orig.tex\n",
        "  data_geeks_team_calendar.orig.ipynb\n",
        "  data_geeks_team_calendar.orig.html\n",
        "  data_geeks_team_calendar.orig.py\n",
        "  00_notebook_tour.orig.py\n",
        "./nbconvert1/tests/template_ref/\n",
        "  00_notebook_tour_orig.rst\n",
        "  IntroNumPy_orig.rst\n",
        "  IntroNumPy_orig.html\n",
        "  00_notebook_tour_orig.tex\n",
        "  IntroNumPy_orig.tex\n",
        "  00_notebook_tour_orig.html\n",
        "./reveal.js/\n",
        "  .travis.yml\n",
        "  .git\n",
        "  Gruntfile.js\n",
        "  package.json\n",
        "  README.md\n",
        "  .gitignore\n",
        "  index.html\n",
        "  LICENSE\n",
        "./reveal.js/css/\n",
        "  reveal.min.css\n",
        "  reveal.css\n",
        "./reveal.js/css/print/\n",
        "  pdf.css\n",
        "  paper.css\n",
        "./reveal.js/css/theme/\n",
        "  simple.css\n",
        "  default.css\n",
        "  beige.css\n",
        "  serif.css\n",
        "  README.md\n",
        "  moon.css\n",
        "  night.css\n",
        "  sky.css\n",
        "  solarized.css\n",
        "./reveal.js/css/theme/source/\n",
        "  night.scss\n",
        "  beige.scss\n",
        "  solarized.scss\n",
        "  moon.scss\n",
        "  simple.scss\n",
        "  sky.scss\n",
        "  serif.scss\n",
        "  default.scss\n",
        "./reveal.js/css/theme/template/\n",
        "  settings.scss\n",
        "  theme.scss\n",
        "  mixins.scss\n",
        "./reveal.js/js/\n",
        "  reveal.js\n",
        "  reveal.min.js\n",
        "./reveal.js/lib/css/\n",
        "  zenburn.css\n",
        "./reveal.js/lib/font/\n",
        "  league_gothic-webfont.woff\n",
        "  league_gothic-webfont.ttf\n",
        "  league_gothic-webfont.eot\n",
        "  league_gothic-webfont.svg\n",
        "  league_gothic_license\n",
        "./reveal.js/lib/js/\n",
        "  classList.js\n",
        "  head.min.js\n",
        "  html5shiv.js\n",
        "./reveal.js/plugin/highlight/\n",
        "  highlight.js\n",
        "./reveal.js/plugin/markdown/\n",
        "  example.md\n",
        "  markdown.js\n",
        "  example.html\n",
        "  marked.js\n",
        "./reveal.js/plugin/multiplex/\n",
        "  index.js\n",
        "  master.js\n",
        "  client.js\n",
        "./reveal.js/plugin/notes/\n",
        "  notes.html\n",
        "  notes.js\n",
        "./reveal.js/plugin/notes-server/\n",
        "  notes.html\n",
        "  index.js\n",
        "  client.js\n",
        "./reveal.js/plugin/postmessage/\n",
        "  postmessage.js\n",
        "  example.html\n",
        "./reveal.js/plugin/print-pdf/\n",
        "  print-pdf.js\n",
        "./reveal.js/plugin/remotes/\n",
        "  remotes.js\n",
        "./reveal.js/plugin/search/\n",
        "  search.js\n",
        "./reveal.js/plugin/zoom-js/\n",
        "  zoom.js"
       ]
      }
     ],
     "prompt_number": 30
    },
    {
     "cell_type": "markdown",
     "metadata": {
      "slideshow": {
       "slide_type": "slide"
      }
     },
     "source": [
      "# Loading external codes\n",
      "* Drag and drop a ``.py`` in the dashboard\n",
      "* Use ``%load`` with any local or remote url: [the Matplotlib Gallery!](http://matplotlib.sourceforge.net/gallery.html)\n",
      "\n",
      "In this notebook we've kept the output saved so you can see the result, but you should run the next\n",
      "cell yourself (with an active internet connection)."
     ]
    },
    {
     "cell_type": "markdown",
     "metadata": {
      "slideshow": {
       "slide_type": "subslide"
      }
     },
     "source": [
      "Let's make sure we have pylab again, in case we have restarted the kernel due to the crash demo above"
     ]
    },
    {
     "cell_type": "code",
     "collapsed": false,
     "input": [
      "%pylab inline"
     ],
     "language": "python",
     "metadata": {
      "slideshow": {
       "slide_type": "fragment"
      }
     },
     "outputs": [
      {
       "output_type": "stream",
       "stream": "stdout",
       "text": [
        "\n",
        "Welcome to pylab, a matplotlib-based Python environment [backend: module://IPython.kernel.zmq.pylab.backend_inline].\n",
        "For more information, type 'help(pylab)'.\n"
       ]
      }
     ],
     "prompt_number": 31
    },
    {
     "cell_type": "code",
     "collapsed": false,
     "input": [
      "%load http://matplotlib.sourceforge.net/mpl_examples/pylab_examples/integral_demo.py"
     ],
     "language": "python",
     "metadata": {
      "slideshow": {
       "slide_type": "fragment"
      }
     },
     "outputs": [],
     "prompt_number": 32
    },
    {
     "cell_type": "code",
     "collapsed": false,
     "input": [
      "#!/usr/bin/env python\n",
      "\n",
      "# implement the example graphs/integral from pyx\n",
      "from pylab import *\n",
      "from matplotlib.patches import Polygon\n",
      "\n",
      "def func(x):\n",
      "    return (x-3)*(x-5)*(x-7)+85\n",
      "\n",
      "ax = subplot(111)\n",
      "\n",
      "a, b = 2, 9 # integral area\n",
      "x = arange(0, 10, 0.01)\n",
      "y = func(x)\n",
      "plot(x, y, linewidth=1)\n",
      "\n",
      "# make the shaded region\n",
      "ix = arange(a, b, 0.01)\n",
      "iy = func(ix)\n",
      "verts = [(a,0)] + list(zip(ix,iy)) + [(b,0)]\n",
      "poly = Polygon(verts, facecolor='0.8', edgecolor='k')\n",
      "ax.add_patch(poly)\n",
      "\n",
      "text(0.5 * (a + b), 30,\n",
      "     r\"$\\int_a^b f(x)\\mathrm{d}x$\", horizontalalignment='center',\n",
      "     fontsize=20)\n",
      "\n",
      "axis([0,10, 0, 180])\n",
      "figtext(0.9, 0.05, 'x')\n",
      "figtext(0.1, 0.9, 'y')\n",
      "ax.set_xticks((a,b))\n",
      "ax.set_xticklabels(('a','b'))\n",
      "ax.set_yticks([])\n",
      "show()\n"
     ],
     "language": "python",
     "metadata": {
      "slideshow": {
       "slide_type": "fragment"
      }
     },
     "outputs": [
      {
       "metadata": {},
       "output_type": "display_data",
       "png": "[encoded data removed]",
       "text": [
        "<matplotlib.figure.Figure at 0xa8c058c>"
       ]
      }
     ],
     "prompt_number": 33
    },
    {
     "cell_type": "markdown",
     "metadata": {
      "slideshow": {
       "slide_type": "slide"
      }
     },
     "source": [
      "# The future..."
     ]
    },
    {
     "cell_type": "markdown",
     "metadata": {
      "slideshow": {
       "slide_type": "subslide"
      }
     },
     "source": [
      "# Add more per cell properties to get more design possibilities."
     ]
    },
    {
     "cell_type": "markdown",
     "metadata": {
      "slideshow": {
       "slide_type": "subslide"
      }
     },
     "source": [
      "# Do you like nbviewer?"
     ]
    },
    {
     "cell_type": "markdown",
     "metadata": {
      "slideshow": {
       "slide_type": "fragment"
      }
     },
     "source": [
      "# A preview of \"slideviewer\"..."
     ]
    },
    {
     "cell_type": "markdown",
     "metadata": {
      "slideshow": {
       "slide_type": "fragment"
      }
     },
     "source": [
      "[LINK](http://slideviewer.herokuapp.com)"
     ]
    },
    {
     "cell_type": "markdown",
     "metadata": {
      "slideshow": {
       "slide_type": "fragment"
      }
     },
     "source": [
      "Link to presentation"
     ]
    },
    {
     "cell_type": "markdown",
     "metadata": {
      "slideshow": {
       "slide_type": "subslide"
      }
     },
     "source": [
      "# More fancier themes."
     ]
    },
    {
     "cell_type": "markdown",
     "metadata": {
      "slideshow": {
       "slide_type": "subslide"
      }
     },
     "source": [
      "# And... \n",
      "\n",
      "# I hope your request... \n",
      "\n",
      "# and pull request ;-)"
     ]
    },
    {
     "cell_type": "markdown",
     "metadata": {
      "slideshow": {
       "slide_type": "subslide"
      }
     },
     "source": [
      "# A subliminal message:\n",
      "\n",
      "## I finished my PhD, I left the Academia and you know how to contact me ;-)"
     ]
    },
    {
     "cell_type": "markdown",
     "metadata": {
      "slideshow": {
       "slide_type": "slide"
      }
     },
     "source": [
      "# Thanks!"
     ]
    },
    {
     "cell_type": "markdown",
     "metadata": {
      "slideshow": {
       "slide_type": "subslide"
      }
     },
     "source": [
      "# [Dami\u00e1n Avila](http://www.damian.oquanta.info)\n",
      "\n",
      "# [@damian_avila](http://twitter.com/damian_avila)\n",
      "\n",
      "# [Github](https://github.com/damianavila)\n",
      "\n",
      "# Email: info@oquanta.info"
     ]
    }
   ],
   "metadata": {}
  }
 ]
}